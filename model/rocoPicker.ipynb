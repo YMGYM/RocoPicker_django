{
  "nbformat": 4,
  "nbformat_minor": 0,
  "metadata": {
    "colab": {
      "name": "rocoPicker.ipynb",
      "provenance": [],
      "collapsed_sections": []
    },
    "kernelspec": {
      "name": "python3",
      "display_name": "Python 3"
    },
    "accelerator": "GPU"
  },
  "cells": [
    {
      "cell_type": "markdown",
      "metadata": {
        "id": "WI3A9k8rFlgR"
      },
      "source": [
        "# 데이터셋 준비"
      ]
    },
    {
      "cell_type": "code",
      "metadata": {
        "id": "yU5ZoqagFuEr"
      },
      "source": [
        "!unzip -q /content/drive/My\\ Drive/Datasets/RocoPicker_dataset.zip -d dataset"
      ],
<<<<<<< HEAD
      "execution_count": null,
=======
      "execution_count": 4,
>>>>>>> 52f4df26d6748f2c01488f3ca2ed0866bebfab38
      "outputs": []
    },
    {
      "cell_type": "markdown",
      "metadata": {
        "id": "SaLsMNlXF4nb"
      },
      "source": [
        "# 텐서플로우 2.0설치;"
      ]
    },
    {
      "cell_type": "code",
      "metadata": {
        "id": "XXgwVfmPGeDX",
        "colab": {
          "base_uri": "https://localhost:8080/"
        },
        "outputId": "edfecde7-f07f-4d0c-b568-9e58d6f7dcc1"
      },
      "source": [
        "!pip install tensorflow==2.1.0 -q"
      ],
<<<<<<< HEAD
      "execution_count": null,
=======
      "execution_count": 2,
>>>>>>> 52f4df26d6748f2c01488f3ca2ed0866bebfab38
      "outputs": [
        {
          "output_type": "stream",
          "text": [
            "\u001b[K     |████████▉                       | 116.3MB 1.4MB/s eta 0:03:34\n",
            "\u001b[31mERROR: Operation cancelled by user\u001b[0m\n",
            "\u001b[?25h"
          ],
          "name": "stdout"
        }
      ]
    },
    {
      "cell_type": "code",
      "metadata": {
        "id": "KkfEp9c_GgJt"
      },
      "source": [
        "import tensorflow as tf"
      ],
      "execution_count": null,
      "outputs": []
    },
    {
      "cell_type": "code",
      "metadata": {
        "id": "68x56DqGGhgO",
        "colab": {
          "base_uri": "https://localhost:8080/",
<<<<<<< HEAD
          "height": 35
        },
        "outputId": "d4624f80-4ce3-4bb8-c1ff-ef011587f16d"
=======
          "height": 34
        },
        "outputId": "29034c0a-893a-4dea-9186-8bf6e82dcf17"
>>>>>>> 52f4df26d6748f2c01488f3ca2ed0866bebfab38
      },
      "source": [
        "tf.__version__"
      ],
      "execution_count": null,
      "outputs": [
        {
          "output_type": "execute_result",
          "data": {
            "application/vnd.google.colaboratory.intrinsic+json": {
              "type": "string"
            },
            "text/plain": [
              "'2.4.1'"
            ]
          },
          "metadata": {
            "tags": []
          },
          "execution_count": 3
        }
      ]
    },
    {
      "cell_type": "markdown",
      "metadata": {
        "id": "zbbPAnA_G5yC"
      },
      "source": [
        "# 필요한 모듈 임포트"
      ]
    },
    {
      "cell_type": "code",
      "metadata": {
        "id": "AUClJXcCHpfy"
      },
      "source": [
        "import numpy as np\n",
        "import matplotlib.pyplot as plt\n",
        "keras = tf.keras"
      ],
      "execution_count": null,
      "outputs": []
    },
    {
      "cell_type": "markdown",
      "metadata": {
        "id": "5f7ISl5bHum_"
      },
      "source": [
        "# 이미지 제너레이터 생성"
      ]
    },
    {
      "cell_type": "code",
      "metadata": {
        "id": "YKQ6B33iIRI0",
        "colab": {
<<<<<<< HEAD
          "base_uri": "https://localhost:8080/"
        },
        "outputId": "d13c520c-556c-4f88-d4a0-ada3be1352fd"
=======
          "base_uri": "https://localhost:8080/",
          "height": 34
        },
        "outputId": "5ca872e7-8a96-445e-966e-b5bc5b410a8d"
>>>>>>> 52f4df26d6748f2c01488f3ca2ed0866bebfab38
      },
      "source": [
        "import pathlib\n",
        "train_dir = pathlib.Path('dataset/RocoPicker_dataset/train')\n",
        "num_of_train_images = len(list(train_dir.glob(\"*/*.png\"))) + len(list(train_dir.glob(\"*/*.jpg\")))\n",
        "num_of_train_images"
      ],
      "execution_count": null,
      "outputs": [
        {
          "output_type": "execute_result",
          "data": {
            "text/plain": [
              "4551"
            ]
          },
          "metadata": {
            "tags": []
          },
          "execution_count": 5
<<<<<<< HEAD
        }
      ]
    },
    {
      "cell_type": "code",
      "metadata": {
        "colab": {
          "base_uri": "https://localhost:8080/"
        },
        "id": "qMvyZ4iuI1Ar",
        "outputId": "d9234da5-a89e-4c8a-ea80-3c856c2684d0"
      },
      "source": [
        "len(list(train_dir.glob(\"Not_Roco/*.png\"))) + len(list(train_dir.glob(\"Not_Roco/*.jpg\")))"
      ],
      "execution_count": null,
      "outputs": [
        {
          "output_type": "execute_result",
          "data": {
            "text/plain": [
              "1976"
            ]
          },
          "metadata": {
            "tags": []
          },
          "execution_count": 6
=======
>>>>>>> 52f4df26d6748f2c01488f3ca2ed0866bebfab38
        }
      ]
    },
    {
      "cell_type": "code",
      "metadata": {
<<<<<<< HEAD
        "id": "8WvzbBOQkaod"
=======
        "id": "mG7yrYaVIGcX"
>>>>>>> 52f4df26d6748f2c01488f3ca2ed0866bebfab38
      },
      "source": [
        ""
      ],
      "execution_count": null,
<<<<<<< HEAD
      "outputs": []
    },
    {
      "cell_type": "code",
      "metadata": {
        "colab": {
          "base_uri": "https://localhost:8080/"
        },
        "id": "g2CXWm6hI_o9",
        "outputId": "8bf42537-8764-41e7-82bf-031f352fd2a8"
      },
      "source": [
        "len(list(train_dir.glob(\"Roco/*.png\")))+ len(list(train_dir.glob(\"Roco/*.jpg\")))"
      ],
      "execution_count": null,
      "outputs": [
        {
          "output_type": "execute_result",
          "data": {
            "text/plain": [
              "2575"
            ]
          },
          "metadata": {
            "tags": []
          },
          "execution_count": 7
        }
      ]
    },
    {
      "cell_type": "code",
      "metadata": {
        "colab": {
          "base_uri": "https://localhost:8080/"
        },
        "id": "JjY6s_9SJJjF",
        "outputId": "0b18ce82-891b-46db-fa57-46a0da092c22"
      },
      "source": [
        "test_dir = pathlib.Path('dataset/RocoPicker_dataset/validation')\n",
        "len(list(test_dir.glob(\"Not_Roco/*.png\"))) + len(list(test_dir.glob(\"Not_Roco/*.jpg\")))"
      ],
      "execution_count": null,
      "outputs": [
        {
          "output_type": "execute_result",
          "data": {
            "text/plain": [
              "200"
            ]
          },
          "metadata": {
            "tags": []
          },
          "execution_count": 8
        }
      ]
    },
    {
      "cell_type": "code",
      "metadata": {
        "colab": {
          "base_uri": "https://localhost:8080/"
        },
        "id": "Y5UyNG-kJZ5P",
        "outputId": "b1a40614-8975-4164-f76d-d923e906f728"
      },
      "source": [
        "len(list(test_dir.glob(\"Roco/*.png\"))) + len(list(test_dir.glob(\"Roco/*.jpg\")))"
      ],
      "execution_count": null,
      "outputs": [
        {
          "output_type": "execute_result",
          "data": {
            "text/plain": [
              "200"
            ]
          },
          "metadata": {
            "tags": []
          },
          "execution_count": 9
        }
      ]
    },
    {
      "cell_type": "code",
      "metadata": {
        "id": "mG7yrYaVIGcX"
      },
      "source": [
        "imageGenerator = keras.preprocessing.image.ImageDataGenerator(\n",
        "    horizontal_flip=True, \n",
        "    rescale=1.0/255.0,\n",
        "    rotation_range=90, \n",
        "    width_shift_range=0.2, \n",
        "    height_shift_range=0.2, \n",
        "    shear_range=0.2, \n",
        "    zoom_range=0.3,\n",
        "    brightness_range=[0.5,1.3] )\n"
      ],
      "execution_count": null,
=======
>>>>>>> 52f4df26d6748f2c01488f3ca2ed0866bebfab38
      "outputs": []
    },
    {
      "cell_type": "markdown",
      "metadata": {
        "id": "zPcUXaWjKJj0"
      },
      "source": [
        "# 하이퍼파라미터"
      ]
    },
    {
      "cell_type": "code",
      "metadata": {
        "id": "n-hfCMIFKUGr"
      },
      "source": [
        "IMAGE_HEIGHT = 299 #https://towardsdatascience.com/review-xception-with-depthwise-separable-convolution-better-than-inception-v3-image-dc967dd42568\n",
        "IMAGE_WIDTH = 299\n",
        "BATCH_SIZE = 20"
      ],
      "execution_count": null,
      "outputs": []
    },
    {
      "cell_type": "markdown",
      "metadata": {
        "id": "v4C8GItALC10"
      },
      "source": [
        "# 이미지 배치 데이터 생성"
      ]
    },
    {
      "cell_type": "code",
      "metadata": {
        "id": "Hu0W5sjILFQA",
        "colab": {
<<<<<<< HEAD
          "base_uri": "https://localhost:8080/"
        },
        "outputId": "c9cf5eee-0782-467e-863e-95e70f366dd9"
=======
          "base_uri": "https://localhost:8080/",
          "height": 34
        },
        "outputId": "92c854a4-6f6f-42e7-d181-6a2d4cd7b7ad"
>>>>>>> 52f4df26d6748f2c01488f3ca2ed0866bebfab38
      },
      "source": [
        "generated_train_data = imageGenerator.flow_from_directory(train_dir, target_size=(IMAGE_HEIGHT, IMAGE_WIDTH), color_mode='rgb', classes=['Roco', 'Not_Roco'], batch_size = BATCH_SIZE, shuffle=True)"
      ],
      "execution_count": null,
      "outputs": [
        {
          "output_type": "stream",
          "text": [
            "Found 4551 images belonging to 2 classes.\n"
          ],
          "name": "stdout"
        }
      ]
    },
    {
      "cell_type": "code",
      "metadata": {
        "id": "DUe8MNexU3tc",
        "colab": {
<<<<<<< HEAD
          "base_uri": "https://localhost:8080/"
        },
        "outputId": "ed6931f2-9918-4b00-e443-efbf9927db84"
=======
          "base_uri": "https://localhost:8080/",
          "height": 34
        },
        "outputId": "1d096a9f-9898-424b-e4db-f1ed289e635a"
>>>>>>> 52f4df26d6748f2c01488f3ca2ed0866bebfab38
      },
      "source": [
        "val_dir = pathlib.Path('dataset/RocoPicker_dataset/validation')\n",
        "generated_validation_data = imageGenerator.flow_from_directory(val_dir,  target_size=(IMAGE_HEIGHT, IMAGE_WIDTH), color_mode='rgb', classes=['Roco', 'Not_Roco'], batch_size = BATCH_SIZE, shuffle=True)"
      ],
      "execution_count": null,
      "outputs": [
        {
          "output_type": "stream",
          "text": [
            "Found 400 images belonging to 2 classes.\n"
          ],
          "name": "stdout"
        }
      ]
    },
    {
      "cell_type": "markdown",
      "metadata": {
        "id": "L_rzcH5nLqMJ"
      },
      "source": [
        "# 배치 데이터 확인"
      ]
    },
    {
      "cell_type": "code",
      "metadata": {
        "id": "X26txvheLzYk"
      },
      "source": [
        "CLASS_NAMES = np.array(['Roco','Not_Roco'])"
      ],
      "execution_count": null,
      "outputs": []
    },
    {
      "cell_type": "code",
      "metadata": {
        "id": "z2dxG1XRMAHD",
        "colab": {
<<<<<<< HEAD
          "base_uri": "https://localhost:8080/"
        },
        "outputId": "67d543a5-e2b6-4b13-d9cb-3376e8d988dc"
=======
          "base_uri": "https://localhost:8080/",
          "height": 34
        },
        "outputId": "5b14f66b-e3a5-4d9b-9f4a-5cc7eaa3aa65"
>>>>>>> 52f4df26d6748f2c01488f3ca2ed0866bebfab38
      },
      "source": [
        "CLASS_NAMES"
      ],
      "execution_count": null,
      "outputs": [
        {
          "output_type": "execute_result",
          "data": {
            "text/plain": [
              "array(['Roco', 'Not_Roco'], dtype='<U8')"
            ]
          },
          "metadata": {
            "tags": []
          },
          "execution_count": 14
        }
      ]
    },
    {
      "cell_type": "code",
      "metadata": {
        "id": "TryXFsrbMCB7"
      },
      "source": [
        "def show_batch(image_batch, label_batch):\n",
        "  plt.figure(figsize=(10,10)) # 이미지 크기를 10, 10 으로 조정\n",
        "  for n in range(20):\n",
        "    ax = plt.subplot(4, 5, n+1) # 5행 5열로 잡은 것 중 n+1번째에 그림을 그림.\n",
        "    plt.imshow(image_batch[n])  # 이미지 표시\n",
        "    plt.title(CLASS_NAMES[label_batch[n]==1][0].title())\n",
        "    plt.axis('off')\n",
        "# ------------------------------------------------------------------\n",
        "\n",
        "import matplotlib.pyplot as plt\n",
        "\n",
<<<<<<< HEAD
        "image_batch, label_batch = next(generated_train_data)\n",
        "# show_batch(image_batch, label_batch)"
      ],
      "execution_count": null,
=======
        "# image_batch, label_batch = next(generated_train_data)\n",
        "# show_batch(image_batch, label_batch)"
      ],
      "execution_count": 6,
>>>>>>> 52f4df26d6748f2c01488f3ca2ed0866bebfab38
      "outputs": []
    },
    {
      "cell_type": "code",
      "metadata": {
        "id": "TxIn6XbIB-bO",
        "colab": {
<<<<<<< HEAD
          "base_uri": "https://localhost:8080/"
        },
        "outputId": "40c5f048-6340-42f5-f33a-fafa7a0e4c2e"
=======
          "base_uri": "https://localhost:8080/",
          "height": 35
        },
        "outputId": "fb839cb9-8eb8-4977-f48b-25e9a231b515"
>>>>>>> 52f4df26d6748f2c01488f3ca2ed0866bebfab38
      },
      "source": [
        "print(label_batch[6])"
      ],
      "execution_count": null,
      "outputs": [
        {
          "output_type": "stream",
          "text": [
            "[1. 0.]\n"
          ],
          "name": "stdout"
        }
      ]
    },
    {
      "cell_type": "code",
      "metadata": {
<<<<<<< HEAD
        "id": "r8oSeh10NHWk",
        "colab": {
          "base_uri": "https://localhost:8080/",
          "height": 286
        },
        "outputId": "d5622c5b-1623-4461-8d11-3a92d162082a"
=======
        "id": "r8oSeh10NHWk"
>>>>>>> 52f4df26d6748f2c01488f3ca2ed0866bebfab38
      },
      "source": [
        "plt.imshow(image_batch[6])"
      ],
      "execution_count": null,
<<<<<<< HEAD
      "outputs": [
        {
          "output_type": "execute_result",
          "data": {
            "text/plain": [
              "<matplotlib.image.AxesImage at 0x7f980d52d310>"
            ]
          },
          "metadata": {
            "tags": []
          },
          "execution_count": 23
        },
        {
          "output_type": "display_data",
          "data": {
            "image/png": "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\n",
            "text/plain": [
              "<Figure size 432x288 with 1 Axes>"
            ]
          },
          "metadata": {
            "tags": [],
            "needs_background": "light"
          }
        }
      ]
=======
      "outputs": []
>>>>>>> 52f4df26d6748f2c01488f3ca2ed0866bebfab38
    },
    {
      "cell_type": "markdown",
      "metadata": {
        "id": "peEEJPYhOrY_"
      },
      "source": [
        "# 모델 생성\n",
        "https://www.tensorflow.org/tutorials/images/transfer_learning?hl=ko"
      ]
    },
    {
      "cell_type": "code",
      "metadata": {
        "id": "AA_dc_bGQKZp",
        "colab": {
<<<<<<< HEAD
          "base_uri": "https://localhost:8080/"
        },
        "outputId": "c7468e64-b24a-47b2-ba60-743166d96cf0"
      },
      "source": [
        "IMG_SHAPE = (IMAGE_HEIGHT,IMAGE_WIDTH,3)\n",
        "\n",
        "base_model = tf.keras.applications.MobileNetV2(input_shape = IMG_SHAPE, include_top = False)"
=======
          "base_uri": "https://localhost:8080/",
          "height": 71
        },
        "outputId": "86819b45-36d5-485e-c42d-94c2f642046b"
      },
      "source": [
        "IMG_SHAPE = (224,224,3)\n",
        "\n",
        "base_model = tf.keras.applications.ResNet50(input_shape = IMG_SHAPE, include_top = False)"
>>>>>>> 52f4df26d6748f2c01488f3ca2ed0866bebfab38
      ],
      "execution_count": null,
      "outputs": [
        {
          "output_type": "stream",
          "text": [
<<<<<<< HEAD
            "WARNING:tensorflow:`input_shape` is undefined or non-square, or `rows` is not in [96, 128, 160, 192, 224]. Weights for input shape (224, 224) will be loaded as the default.\n"
=======
            "Downloading data from https://github.com/keras-team/keras-applications/releases/download/resnet/resnet50_weights_tf_dim_ordering_tf_kernels_notop.h5\n",
            "94773248/94765736 [==============================] - 2s 0us/step\n"
>>>>>>> 52f4df26d6748f2c01488f3ca2ed0866bebfab38
          ],
          "name": "stdout"
        }
      ]
    },
    {
      "cell_type": "code",
      "metadata": {
        "id": "7opObr-vQUdS",
        "colab": {
<<<<<<< HEAD
          "base_uri": "https://localhost:8080/"
        },
        "outputId": "a6970f78-46eb-4a02-afdd-b351d6163d0f"
=======
          "base_uri": "https://localhost:8080/",
          "height": 1000
        },
        "outputId": "c2b5151c-ccf3-4130-bd6d-a0f8f01ced70"
>>>>>>> 52f4df26d6748f2c01488f3ca2ed0866bebfab38
      },
      "source": [
        "base_model.summary()"
      ],
      "execution_count": null,
      "outputs": [
        {
          "output_type": "stream",
          "text": [
<<<<<<< HEAD
            "Model: \"mobilenetv2_1.00_224\"\n",
            "__________________________________________________________________________________________________\n",
            "Layer (type)                    Output Shape         Param #     Connected to                     \n",
            "==================================================================================================\n",
            "input_3 (InputLayer)            [(None, 299, 299, 3) 0                                            \n",
            "__________________________________________________________________________________________________\n",
            "Conv1 (Conv2D)                  (None, 150, 150, 32) 864         input_3[0][0]                    \n",
            "__________________________________________________________________________________________________\n",
            "bn_Conv1 (BatchNormalization)   (None, 150, 150, 32) 128         Conv1[0][0]                      \n",
            "__________________________________________________________________________________________________\n",
            "Conv1_relu (ReLU)               (None, 150, 150, 32) 0           bn_Conv1[0][0]                   \n",
            "__________________________________________________________________________________________________\n",
            "expanded_conv_depthwise (Depthw (None, 150, 150, 32) 288         Conv1_relu[0][0]                 \n",
            "__________________________________________________________________________________________________\n",
            "expanded_conv_depthwise_BN (Bat (None, 150, 150, 32) 128         expanded_conv_depthwise[0][0]    \n",
            "__________________________________________________________________________________________________\n",
            "expanded_conv_depthwise_relu (R (None, 150, 150, 32) 0           expanded_conv_depthwise_BN[0][0] \n",
            "__________________________________________________________________________________________________\n",
            "expanded_conv_project (Conv2D)  (None, 150, 150, 16) 512         expanded_conv_depthwise_relu[0][0\n",
            "__________________________________________________________________________________________________\n",
            "expanded_conv_project_BN (Batch (None, 150, 150, 16) 64          expanded_conv_project[0][0]      \n",
            "__________________________________________________________________________________________________\n",
            "block_1_expand (Conv2D)         (None, 150, 150, 96) 1536        expanded_conv_project_BN[0][0]   \n",
            "__________________________________________________________________________________________________\n",
            "block_1_expand_BN (BatchNormali (None, 150, 150, 96) 384         block_1_expand[0][0]             \n",
            "__________________________________________________________________________________________________\n",
            "block_1_expand_relu (ReLU)      (None, 150, 150, 96) 0           block_1_expand_BN[0][0]          \n",
            "__________________________________________________________________________________________________\n",
            "block_1_pad (ZeroPadding2D)     (None, 151, 151, 96) 0           block_1_expand_relu[0][0]        \n",
            "__________________________________________________________________________________________________\n",
            "block_1_depthwise (DepthwiseCon (None, 75, 75, 96)   864         block_1_pad[0][0]                \n",
            "__________________________________________________________________________________________________\n",
            "block_1_depthwise_BN (BatchNorm (None, 75, 75, 96)   384         block_1_depthwise[0][0]          \n",
            "__________________________________________________________________________________________________\n",
            "block_1_depthwise_relu (ReLU)   (None, 75, 75, 96)   0           block_1_depthwise_BN[0][0]       \n",
            "__________________________________________________________________________________________________\n",
            "block_1_project (Conv2D)        (None, 75, 75, 24)   2304        block_1_depthwise_relu[0][0]     \n",
            "__________________________________________________________________________________________________\n",
            "block_1_project_BN (BatchNormal (None, 75, 75, 24)   96          block_1_project[0][0]            \n",
            "__________________________________________________________________________________________________\n",
            "block_2_expand (Conv2D)         (None, 75, 75, 144)  3456        block_1_project_BN[0][0]         \n",
            "__________________________________________________________________________________________________\n",
            "block_2_expand_BN (BatchNormali (None, 75, 75, 144)  576         block_2_expand[0][0]             \n",
            "__________________________________________________________________________________________________\n",
            "block_2_expand_relu (ReLU)      (None, 75, 75, 144)  0           block_2_expand_BN[0][0]          \n",
            "__________________________________________________________________________________________________\n",
            "block_2_depthwise (DepthwiseCon (None, 75, 75, 144)  1296        block_2_expand_relu[0][0]        \n",
            "__________________________________________________________________________________________________\n",
            "block_2_depthwise_BN (BatchNorm (None, 75, 75, 144)  576         block_2_depthwise[0][0]          \n",
            "__________________________________________________________________________________________________\n",
            "block_2_depthwise_relu (ReLU)   (None, 75, 75, 144)  0           block_2_depthwise_BN[0][0]       \n",
            "__________________________________________________________________________________________________\n",
            "block_2_project (Conv2D)        (None, 75, 75, 24)   3456        block_2_depthwise_relu[0][0]     \n",
            "__________________________________________________________________________________________________\n",
            "block_2_project_BN (BatchNormal (None, 75, 75, 24)   96          block_2_project[0][0]            \n",
            "__________________________________________________________________________________________________\n",
            "block_2_add (Add)               (None, 75, 75, 24)   0           block_1_project_BN[0][0]         \n",
            "                                                                 block_2_project_BN[0][0]         \n",
            "__________________________________________________________________________________________________\n",
            "block_3_expand (Conv2D)         (None, 75, 75, 144)  3456        block_2_add[0][0]                \n",
            "__________________________________________________________________________________________________\n",
            "block_3_expand_BN (BatchNormali (None, 75, 75, 144)  576         block_3_expand[0][0]             \n",
            "__________________________________________________________________________________________________\n",
            "block_3_expand_relu (ReLU)      (None, 75, 75, 144)  0           block_3_expand_BN[0][0]          \n",
            "__________________________________________________________________________________________________\n",
            "block_3_pad (ZeroPadding2D)     (None, 77, 77, 144)  0           block_3_expand_relu[0][0]        \n",
            "__________________________________________________________________________________________________\n",
            "block_3_depthwise (DepthwiseCon (None, 38, 38, 144)  1296        block_3_pad[0][0]                \n",
            "__________________________________________________________________________________________________\n",
            "block_3_depthwise_BN (BatchNorm (None, 38, 38, 144)  576         block_3_depthwise[0][0]          \n",
            "__________________________________________________________________________________________________\n",
            "block_3_depthwise_relu (ReLU)   (None, 38, 38, 144)  0           block_3_depthwise_BN[0][0]       \n",
            "__________________________________________________________________________________________________\n",
            "block_3_project (Conv2D)        (None, 38, 38, 32)   4608        block_3_depthwise_relu[0][0]     \n",
            "__________________________________________________________________________________________________\n",
            "block_3_project_BN (BatchNormal (None, 38, 38, 32)   128         block_3_project[0][0]            \n",
            "__________________________________________________________________________________________________\n",
            "block_4_expand (Conv2D)         (None, 38, 38, 192)  6144        block_3_project_BN[0][0]         \n",
            "__________________________________________________________________________________________________\n",
            "block_4_expand_BN (BatchNormali (None, 38, 38, 192)  768         block_4_expand[0][0]             \n",
            "__________________________________________________________________________________________________\n",
            "block_4_expand_relu (ReLU)      (None, 38, 38, 192)  0           block_4_expand_BN[0][0]          \n",
            "__________________________________________________________________________________________________\n",
            "block_4_depthwise (DepthwiseCon (None, 38, 38, 192)  1728        block_4_expand_relu[0][0]        \n",
            "__________________________________________________________________________________________________\n",
            "block_4_depthwise_BN (BatchNorm (None, 38, 38, 192)  768         block_4_depthwise[0][0]          \n",
            "__________________________________________________________________________________________________\n",
            "block_4_depthwise_relu (ReLU)   (None, 38, 38, 192)  0           block_4_depthwise_BN[0][0]       \n",
            "__________________________________________________________________________________________________\n",
            "block_4_project (Conv2D)        (None, 38, 38, 32)   6144        block_4_depthwise_relu[0][0]     \n",
            "__________________________________________________________________________________________________\n",
            "block_4_project_BN (BatchNormal (None, 38, 38, 32)   128         block_4_project[0][0]            \n",
            "__________________________________________________________________________________________________\n",
            "block_4_add (Add)               (None, 38, 38, 32)   0           block_3_project_BN[0][0]         \n",
            "                                                                 block_4_project_BN[0][0]         \n",
            "__________________________________________________________________________________________________\n",
            "block_5_expand (Conv2D)         (None, 38, 38, 192)  6144        block_4_add[0][0]                \n",
            "__________________________________________________________________________________________________\n",
            "block_5_expand_BN (BatchNormali (None, 38, 38, 192)  768         block_5_expand[0][0]             \n",
            "__________________________________________________________________________________________________\n",
            "block_5_expand_relu (ReLU)      (None, 38, 38, 192)  0           block_5_expand_BN[0][0]          \n",
            "__________________________________________________________________________________________________\n",
            "block_5_depthwise (DepthwiseCon (None, 38, 38, 192)  1728        block_5_expand_relu[0][0]        \n",
            "__________________________________________________________________________________________________\n",
            "block_5_depthwise_BN (BatchNorm (None, 38, 38, 192)  768         block_5_depthwise[0][0]          \n",
            "__________________________________________________________________________________________________\n",
            "block_5_depthwise_relu (ReLU)   (None, 38, 38, 192)  0           block_5_depthwise_BN[0][0]       \n",
            "__________________________________________________________________________________________________\n",
            "block_5_project (Conv2D)        (None, 38, 38, 32)   6144        block_5_depthwise_relu[0][0]     \n",
            "__________________________________________________________________________________________________\n",
            "block_5_project_BN (BatchNormal (None, 38, 38, 32)   128         block_5_project[0][0]            \n",
            "__________________________________________________________________________________________________\n",
            "block_5_add (Add)               (None, 38, 38, 32)   0           block_4_add[0][0]                \n",
            "                                                                 block_5_project_BN[0][0]         \n",
            "__________________________________________________________________________________________________\n",
            "block_6_expand (Conv2D)         (None, 38, 38, 192)  6144        block_5_add[0][0]                \n",
            "__________________________________________________________________________________________________\n",
            "block_6_expand_BN (BatchNormali (None, 38, 38, 192)  768         block_6_expand[0][0]             \n",
            "__________________________________________________________________________________________________\n",
            "block_6_expand_relu (ReLU)      (None, 38, 38, 192)  0           block_6_expand_BN[0][0]          \n",
            "__________________________________________________________________________________________________\n",
            "block_6_pad (ZeroPadding2D)     (None, 39, 39, 192)  0           block_6_expand_relu[0][0]        \n",
            "__________________________________________________________________________________________________\n",
            "block_6_depthwise (DepthwiseCon (None, 19, 19, 192)  1728        block_6_pad[0][0]                \n",
            "__________________________________________________________________________________________________\n",
            "block_6_depthwise_BN (BatchNorm (None, 19, 19, 192)  768         block_6_depthwise[0][0]          \n",
            "__________________________________________________________________________________________________\n",
            "block_6_depthwise_relu (ReLU)   (None, 19, 19, 192)  0           block_6_depthwise_BN[0][0]       \n",
            "__________________________________________________________________________________________________\n",
            "block_6_project (Conv2D)        (None, 19, 19, 64)   12288       block_6_depthwise_relu[0][0]     \n",
            "__________________________________________________________________________________________________\n",
            "block_6_project_BN (BatchNormal (None, 19, 19, 64)   256         block_6_project[0][0]            \n",
            "__________________________________________________________________________________________________\n",
            "block_7_expand (Conv2D)         (None, 19, 19, 384)  24576       block_6_project_BN[0][0]         \n",
            "__________________________________________________________________________________________________\n",
            "block_7_expand_BN (BatchNormali (None, 19, 19, 384)  1536        block_7_expand[0][0]             \n",
            "__________________________________________________________________________________________________\n",
            "block_7_expand_relu (ReLU)      (None, 19, 19, 384)  0           block_7_expand_BN[0][0]          \n",
            "__________________________________________________________________________________________________\n",
            "block_7_depthwise (DepthwiseCon (None, 19, 19, 384)  3456        block_7_expand_relu[0][0]        \n",
            "__________________________________________________________________________________________________\n",
            "block_7_depthwise_BN (BatchNorm (None, 19, 19, 384)  1536        block_7_depthwise[0][0]          \n",
            "__________________________________________________________________________________________________\n",
            "block_7_depthwise_relu (ReLU)   (None, 19, 19, 384)  0           block_7_depthwise_BN[0][0]       \n",
            "__________________________________________________________________________________________________\n",
            "block_7_project (Conv2D)        (None, 19, 19, 64)   24576       block_7_depthwise_relu[0][0]     \n",
            "__________________________________________________________________________________________________\n",
            "block_7_project_BN (BatchNormal (None, 19, 19, 64)   256         block_7_project[0][0]            \n",
            "__________________________________________________________________________________________________\n",
            "block_7_add (Add)               (None, 19, 19, 64)   0           block_6_project_BN[0][0]         \n",
            "                                                                 block_7_project_BN[0][0]         \n",
            "__________________________________________________________________________________________________\n",
            "block_8_expand (Conv2D)         (None, 19, 19, 384)  24576       block_7_add[0][0]                \n",
            "__________________________________________________________________________________________________\n",
            "block_8_expand_BN (BatchNormali (None, 19, 19, 384)  1536        block_8_expand[0][0]             \n",
            "__________________________________________________________________________________________________\n",
            "block_8_expand_relu (ReLU)      (None, 19, 19, 384)  0           block_8_expand_BN[0][0]          \n",
            "__________________________________________________________________________________________________\n",
            "block_8_depthwise (DepthwiseCon (None, 19, 19, 384)  3456        block_8_expand_relu[0][0]        \n",
            "__________________________________________________________________________________________________\n",
            "block_8_depthwise_BN (BatchNorm (None, 19, 19, 384)  1536        block_8_depthwise[0][0]          \n",
            "__________________________________________________________________________________________________\n",
            "block_8_depthwise_relu (ReLU)   (None, 19, 19, 384)  0           block_8_depthwise_BN[0][0]       \n",
            "__________________________________________________________________________________________________\n",
            "block_8_project (Conv2D)        (None, 19, 19, 64)   24576       block_8_depthwise_relu[0][0]     \n",
            "__________________________________________________________________________________________________\n",
            "block_8_project_BN (BatchNormal (None, 19, 19, 64)   256         block_8_project[0][0]            \n",
            "__________________________________________________________________________________________________\n",
            "block_8_add (Add)               (None, 19, 19, 64)   0           block_7_add[0][0]                \n",
            "                                                                 block_8_project_BN[0][0]         \n",
            "__________________________________________________________________________________________________\n",
            "block_9_expand (Conv2D)         (None, 19, 19, 384)  24576       block_8_add[0][0]                \n",
            "__________________________________________________________________________________________________\n",
            "block_9_expand_BN (BatchNormali (None, 19, 19, 384)  1536        block_9_expand[0][0]             \n",
            "__________________________________________________________________________________________________\n",
            "block_9_expand_relu (ReLU)      (None, 19, 19, 384)  0           block_9_expand_BN[0][0]          \n",
            "__________________________________________________________________________________________________\n",
            "block_9_depthwise (DepthwiseCon (None, 19, 19, 384)  3456        block_9_expand_relu[0][0]        \n",
            "__________________________________________________________________________________________________\n",
            "block_9_depthwise_BN (BatchNorm (None, 19, 19, 384)  1536        block_9_depthwise[0][0]          \n",
            "__________________________________________________________________________________________________\n",
            "block_9_depthwise_relu (ReLU)   (None, 19, 19, 384)  0           block_9_depthwise_BN[0][0]       \n",
            "__________________________________________________________________________________________________\n",
            "block_9_project (Conv2D)        (None, 19, 19, 64)   24576       block_9_depthwise_relu[0][0]     \n",
            "__________________________________________________________________________________________________\n",
            "block_9_project_BN (BatchNormal (None, 19, 19, 64)   256         block_9_project[0][0]            \n",
            "__________________________________________________________________________________________________\n",
            "block_9_add (Add)               (None, 19, 19, 64)   0           block_8_add[0][0]                \n",
            "                                                                 block_9_project_BN[0][0]         \n",
            "__________________________________________________________________________________________________\n",
            "block_10_expand (Conv2D)        (None, 19, 19, 384)  24576       block_9_add[0][0]                \n",
            "__________________________________________________________________________________________________\n",
            "block_10_expand_BN (BatchNormal (None, 19, 19, 384)  1536        block_10_expand[0][0]            \n",
            "__________________________________________________________________________________________________\n",
            "block_10_expand_relu (ReLU)     (None, 19, 19, 384)  0           block_10_expand_BN[0][0]         \n",
            "__________________________________________________________________________________________________\n",
            "block_10_depthwise (DepthwiseCo (None, 19, 19, 384)  3456        block_10_expand_relu[0][0]       \n",
            "__________________________________________________________________________________________________\n",
            "block_10_depthwise_BN (BatchNor (None, 19, 19, 384)  1536        block_10_depthwise[0][0]         \n",
            "__________________________________________________________________________________________________\n",
            "block_10_depthwise_relu (ReLU)  (None, 19, 19, 384)  0           block_10_depthwise_BN[0][0]      \n",
            "__________________________________________________________________________________________________\n",
            "block_10_project (Conv2D)       (None, 19, 19, 96)   36864       block_10_depthwise_relu[0][0]    \n",
            "__________________________________________________________________________________________________\n",
            "block_10_project_BN (BatchNorma (None, 19, 19, 96)   384         block_10_project[0][0]           \n",
            "__________________________________________________________________________________________________\n",
            "block_11_expand (Conv2D)        (None, 19, 19, 576)  55296       block_10_project_BN[0][0]        \n",
            "__________________________________________________________________________________________________\n",
            "block_11_expand_BN (BatchNormal (None, 19, 19, 576)  2304        block_11_expand[0][0]            \n",
            "__________________________________________________________________________________________________\n",
            "block_11_expand_relu (ReLU)     (None, 19, 19, 576)  0           block_11_expand_BN[0][0]         \n",
            "__________________________________________________________________________________________________\n",
            "block_11_depthwise (DepthwiseCo (None, 19, 19, 576)  5184        block_11_expand_relu[0][0]       \n",
            "__________________________________________________________________________________________________\n",
            "block_11_depthwise_BN (BatchNor (None, 19, 19, 576)  2304        block_11_depthwise[0][0]         \n",
            "__________________________________________________________________________________________________\n",
            "block_11_depthwise_relu (ReLU)  (None, 19, 19, 576)  0           block_11_depthwise_BN[0][0]      \n",
            "__________________________________________________________________________________________________\n",
            "block_11_project (Conv2D)       (None, 19, 19, 96)   55296       block_11_depthwise_relu[0][0]    \n",
            "__________________________________________________________________________________________________\n",
            "block_11_project_BN (BatchNorma (None, 19, 19, 96)   384         block_11_project[0][0]           \n",
            "__________________________________________________________________________________________________\n",
            "block_11_add (Add)              (None, 19, 19, 96)   0           block_10_project_BN[0][0]        \n",
            "                                                                 block_11_project_BN[0][0]        \n",
            "__________________________________________________________________________________________________\n",
            "block_12_expand (Conv2D)        (None, 19, 19, 576)  55296       block_11_add[0][0]               \n",
            "__________________________________________________________________________________________________\n",
            "block_12_expand_BN (BatchNormal (None, 19, 19, 576)  2304        block_12_expand[0][0]            \n",
            "__________________________________________________________________________________________________\n",
            "block_12_expand_relu (ReLU)     (None, 19, 19, 576)  0           block_12_expand_BN[0][0]         \n",
            "__________________________________________________________________________________________________\n",
            "block_12_depthwise (DepthwiseCo (None, 19, 19, 576)  5184        block_12_expand_relu[0][0]       \n",
            "__________________________________________________________________________________________________\n",
            "block_12_depthwise_BN (BatchNor (None, 19, 19, 576)  2304        block_12_depthwise[0][0]         \n",
            "__________________________________________________________________________________________________\n",
            "block_12_depthwise_relu (ReLU)  (None, 19, 19, 576)  0           block_12_depthwise_BN[0][0]      \n",
            "__________________________________________________________________________________________________\n",
            "block_12_project (Conv2D)       (None, 19, 19, 96)   55296       block_12_depthwise_relu[0][0]    \n",
            "__________________________________________________________________________________________________\n",
            "block_12_project_BN (BatchNorma (None, 19, 19, 96)   384         block_12_project[0][0]           \n",
            "__________________________________________________________________________________________________\n",
            "block_12_add (Add)              (None, 19, 19, 96)   0           block_11_add[0][0]               \n",
            "                                                                 block_12_project_BN[0][0]        \n",
            "__________________________________________________________________________________________________\n",
            "block_13_expand (Conv2D)        (None, 19, 19, 576)  55296       block_12_add[0][0]               \n",
            "__________________________________________________________________________________________________\n",
            "block_13_expand_BN (BatchNormal (None, 19, 19, 576)  2304        block_13_expand[0][0]            \n",
            "__________________________________________________________________________________________________\n",
            "block_13_expand_relu (ReLU)     (None, 19, 19, 576)  0           block_13_expand_BN[0][0]         \n",
            "__________________________________________________________________________________________________\n",
            "block_13_pad (ZeroPadding2D)    (None, 21, 21, 576)  0           block_13_expand_relu[0][0]       \n",
            "__________________________________________________________________________________________________\n",
            "block_13_depthwise (DepthwiseCo (None, 10, 10, 576)  5184        block_13_pad[0][0]               \n",
            "__________________________________________________________________________________________________\n",
            "block_13_depthwise_BN (BatchNor (None, 10, 10, 576)  2304        block_13_depthwise[0][0]         \n",
            "__________________________________________________________________________________________________\n",
            "block_13_depthwise_relu (ReLU)  (None, 10, 10, 576)  0           block_13_depthwise_BN[0][0]      \n",
            "__________________________________________________________________________________________________\n",
            "block_13_project (Conv2D)       (None, 10, 10, 160)  92160       block_13_depthwise_relu[0][0]    \n",
            "__________________________________________________________________________________________________\n",
            "block_13_project_BN (BatchNorma (None, 10, 10, 160)  640         block_13_project[0][0]           \n",
            "__________________________________________________________________________________________________\n",
            "block_14_expand (Conv2D)        (None, 10, 10, 960)  153600      block_13_project_BN[0][0]        \n",
            "__________________________________________________________________________________________________\n",
            "block_14_expand_BN (BatchNormal (None, 10, 10, 960)  3840        block_14_expand[0][0]            \n",
            "__________________________________________________________________________________________________\n",
            "block_14_expand_relu (ReLU)     (None, 10, 10, 960)  0           block_14_expand_BN[0][0]         \n",
            "__________________________________________________________________________________________________\n",
            "block_14_depthwise (DepthwiseCo (None, 10, 10, 960)  8640        block_14_expand_relu[0][0]       \n",
            "__________________________________________________________________________________________________\n",
            "block_14_depthwise_BN (BatchNor (None, 10, 10, 960)  3840        block_14_depthwise[0][0]         \n",
            "__________________________________________________________________________________________________\n",
            "block_14_depthwise_relu (ReLU)  (None, 10, 10, 960)  0           block_14_depthwise_BN[0][0]      \n",
            "__________________________________________________________________________________________________\n",
            "block_14_project (Conv2D)       (None, 10, 10, 160)  153600      block_14_depthwise_relu[0][0]    \n",
            "__________________________________________________________________________________________________\n",
            "block_14_project_BN (BatchNorma (None, 10, 10, 160)  640         block_14_project[0][0]           \n",
            "__________________________________________________________________________________________________\n",
            "block_14_add (Add)              (None, 10, 10, 160)  0           block_13_project_BN[0][0]        \n",
            "                                                                 block_14_project_BN[0][0]        \n",
            "__________________________________________________________________________________________________\n",
            "block_15_expand (Conv2D)        (None, 10, 10, 960)  153600      block_14_add[0][0]               \n",
            "__________________________________________________________________________________________________\n",
            "block_15_expand_BN (BatchNormal (None, 10, 10, 960)  3840        block_15_expand[0][0]            \n",
            "__________________________________________________________________________________________________\n",
            "block_15_expand_relu (ReLU)     (None, 10, 10, 960)  0           block_15_expand_BN[0][0]         \n",
            "__________________________________________________________________________________________________\n",
            "block_15_depthwise (DepthwiseCo (None, 10, 10, 960)  8640        block_15_expand_relu[0][0]       \n",
            "__________________________________________________________________________________________________\n",
            "block_15_depthwise_BN (BatchNor (None, 10, 10, 960)  3840        block_15_depthwise[0][0]         \n",
            "__________________________________________________________________________________________________\n",
            "block_15_depthwise_relu (ReLU)  (None, 10, 10, 960)  0           block_15_depthwise_BN[0][0]      \n",
            "__________________________________________________________________________________________________\n",
            "block_15_project (Conv2D)       (None, 10, 10, 160)  153600      block_15_depthwise_relu[0][0]    \n",
            "__________________________________________________________________________________________________\n",
            "block_15_project_BN (BatchNorma (None, 10, 10, 160)  640         block_15_project[0][0]           \n",
            "__________________________________________________________________________________________________\n",
            "block_15_add (Add)              (None, 10, 10, 160)  0           block_14_add[0][0]               \n",
            "                                                                 block_15_project_BN[0][0]        \n",
            "__________________________________________________________________________________________________\n",
            "block_16_expand (Conv2D)        (None, 10, 10, 960)  153600      block_15_add[0][0]               \n",
            "__________________________________________________________________________________________________\n",
            "block_16_expand_BN (BatchNormal (None, 10, 10, 960)  3840        block_16_expand[0][0]            \n",
            "__________________________________________________________________________________________________\n",
            "block_16_expand_relu (ReLU)     (None, 10, 10, 960)  0           block_16_expand_BN[0][0]         \n",
            "__________________________________________________________________________________________________\n",
            "block_16_depthwise (DepthwiseCo (None, 10, 10, 960)  8640        block_16_expand_relu[0][0]       \n",
            "__________________________________________________________________________________________________\n",
            "block_16_depthwise_BN (BatchNor (None, 10, 10, 960)  3840        block_16_depthwise[0][0]         \n",
            "__________________________________________________________________________________________________\n",
            "block_16_depthwise_relu (ReLU)  (None, 10, 10, 960)  0           block_16_depthwise_BN[0][0]      \n",
            "__________________________________________________________________________________________________\n",
            "block_16_project (Conv2D)       (None, 10, 10, 320)  307200      block_16_depthwise_relu[0][0]    \n",
            "__________________________________________________________________________________________________\n",
            "block_16_project_BN (BatchNorma (None, 10, 10, 320)  1280        block_16_project[0][0]           \n",
            "__________________________________________________________________________________________________\n",
            "Conv_1 (Conv2D)                 (None, 10, 10, 1280) 409600      block_16_project_BN[0][0]        \n",
            "__________________________________________________________________________________________________\n",
            "Conv_1_bn (BatchNormalization)  (None, 10, 10, 1280) 5120        Conv_1[0][0]                     \n",
            "__________________________________________________________________________________________________\n",
            "out_relu (ReLU)                 (None, 10, 10, 1280) 0           Conv_1_bn[0][0]                  \n",
            "==================================================================================================\n",
            "Total params: 2,257,984\n",
            "Trainable params: 2,223,872\n",
            "Non-trainable params: 34,112\n",
=======
            "Model: \"resnet50\"\n",
            "__________________________________________________________________________________________________\n",
            "Layer (type)                    Output Shape         Param #     Connected to                     \n",
            "==================================================================================================\n",
            "input_1 (InputLayer)            [(None, 224, 224, 3) 0                                            \n",
            "__________________________________________________________________________________________________\n",
            "conv1_pad (ZeroPadding2D)       (None, 230, 230, 3)  0           input_1[0][0]                    \n",
            "__________________________________________________________________________________________________\n",
            "conv1_conv (Conv2D)             (None, 112, 112, 64) 9472        conv1_pad[0][0]                  \n",
            "__________________________________________________________________________________________________\n",
            "conv1_bn (BatchNormalization)   (None, 112, 112, 64) 256         conv1_conv[0][0]                 \n",
            "__________________________________________________________________________________________________\n",
            "conv1_relu (Activation)         (None, 112, 112, 64) 0           conv1_bn[0][0]                   \n",
            "__________________________________________________________________________________________________\n",
            "pool1_pad (ZeroPadding2D)       (None, 114, 114, 64) 0           conv1_relu[0][0]                 \n",
            "__________________________________________________________________________________________________\n",
            "pool1_pool (MaxPooling2D)       (None, 56, 56, 64)   0           pool1_pad[0][0]                  \n",
            "__________________________________________________________________________________________________\n",
            "conv2_block1_1_conv (Conv2D)    (None, 56, 56, 64)   4160        pool1_pool[0][0]                 \n",
            "__________________________________________________________________________________________________\n",
            "conv2_block1_1_bn (BatchNormali (None, 56, 56, 64)   256         conv2_block1_1_conv[0][0]        \n",
            "__________________________________________________________________________________________________\n",
            "conv2_block1_1_relu (Activation (None, 56, 56, 64)   0           conv2_block1_1_bn[0][0]          \n",
            "__________________________________________________________________________________________________\n",
            "conv2_block1_2_conv (Conv2D)    (None, 56, 56, 64)   36928       conv2_block1_1_relu[0][0]        \n",
            "__________________________________________________________________________________________________\n",
            "conv2_block1_2_bn (BatchNormali (None, 56, 56, 64)   256         conv2_block1_2_conv[0][0]        \n",
            "__________________________________________________________________________________________________\n",
            "conv2_block1_2_relu (Activation (None, 56, 56, 64)   0           conv2_block1_2_bn[0][0]          \n",
            "__________________________________________________________________________________________________\n",
            "conv2_block1_0_conv (Conv2D)    (None, 56, 56, 256)  16640       pool1_pool[0][0]                 \n",
            "__________________________________________________________________________________________________\n",
            "conv2_block1_3_conv (Conv2D)    (None, 56, 56, 256)  16640       conv2_block1_2_relu[0][0]        \n",
            "__________________________________________________________________________________________________\n",
            "conv2_block1_0_bn (BatchNormali (None, 56, 56, 256)  1024        conv2_block1_0_conv[0][0]        \n",
            "__________________________________________________________________________________________________\n",
            "conv2_block1_3_bn (BatchNormali (None, 56, 56, 256)  1024        conv2_block1_3_conv[0][0]        \n",
            "__________________________________________________________________________________________________\n",
            "conv2_block1_add (Add)          (None, 56, 56, 256)  0           conv2_block1_0_bn[0][0]          \n",
            "                                                                 conv2_block1_3_bn[0][0]          \n",
            "__________________________________________________________________________________________________\n",
            "conv2_block1_out (Activation)   (None, 56, 56, 256)  0           conv2_block1_add[0][0]           \n",
            "__________________________________________________________________________________________________\n",
            "conv2_block2_1_conv (Conv2D)    (None, 56, 56, 64)   16448       conv2_block1_out[0][0]           \n",
            "__________________________________________________________________________________________________\n",
            "conv2_block2_1_bn (BatchNormali (None, 56, 56, 64)   256         conv2_block2_1_conv[0][0]        \n",
            "__________________________________________________________________________________________________\n",
            "conv2_block2_1_relu (Activation (None, 56, 56, 64)   0           conv2_block2_1_bn[0][0]          \n",
            "__________________________________________________________________________________________________\n",
            "conv2_block2_2_conv (Conv2D)    (None, 56, 56, 64)   36928       conv2_block2_1_relu[0][0]        \n",
            "__________________________________________________________________________________________________\n",
            "conv2_block2_2_bn (BatchNormali (None, 56, 56, 64)   256         conv2_block2_2_conv[0][0]        \n",
            "__________________________________________________________________________________________________\n",
            "conv2_block2_2_relu (Activation (None, 56, 56, 64)   0           conv2_block2_2_bn[0][0]          \n",
            "__________________________________________________________________________________________________\n",
            "conv2_block2_3_conv (Conv2D)    (None, 56, 56, 256)  16640       conv2_block2_2_relu[0][0]        \n",
            "__________________________________________________________________________________________________\n",
            "conv2_block2_3_bn (BatchNormali (None, 56, 56, 256)  1024        conv2_block2_3_conv[0][0]        \n",
            "__________________________________________________________________________________________________\n",
            "conv2_block2_add (Add)          (None, 56, 56, 256)  0           conv2_block1_out[0][0]           \n",
            "                                                                 conv2_block2_3_bn[0][0]          \n",
            "__________________________________________________________________________________________________\n",
            "conv2_block2_out (Activation)   (None, 56, 56, 256)  0           conv2_block2_add[0][0]           \n",
            "__________________________________________________________________________________________________\n",
            "conv2_block3_1_conv (Conv2D)    (None, 56, 56, 64)   16448       conv2_block2_out[0][0]           \n",
            "__________________________________________________________________________________________________\n",
            "conv2_block3_1_bn (BatchNormali (None, 56, 56, 64)   256         conv2_block3_1_conv[0][0]        \n",
            "__________________________________________________________________________________________________\n",
            "conv2_block3_1_relu (Activation (None, 56, 56, 64)   0           conv2_block3_1_bn[0][0]          \n",
            "__________________________________________________________________________________________________\n",
            "conv2_block3_2_conv (Conv2D)    (None, 56, 56, 64)   36928       conv2_block3_1_relu[0][0]        \n",
            "__________________________________________________________________________________________________\n",
            "conv2_block3_2_bn (BatchNormali (None, 56, 56, 64)   256         conv2_block3_2_conv[0][0]        \n",
            "__________________________________________________________________________________________________\n",
            "conv2_block3_2_relu (Activation (None, 56, 56, 64)   0           conv2_block3_2_bn[0][0]          \n",
            "__________________________________________________________________________________________________\n",
            "conv2_block3_3_conv (Conv2D)    (None, 56, 56, 256)  16640       conv2_block3_2_relu[0][0]        \n",
            "__________________________________________________________________________________________________\n",
            "conv2_block3_3_bn (BatchNormali (None, 56, 56, 256)  1024        conv2_block3_3_conv[0][0]        \n",
            "__________________________________________________________________________________________________\n",
            "conv2_block3_add (Add)          (None, 56, 56, 256)  0           conv2_block2_out[0][0]           \n",
            "                                                                 conv2_block3_3_bn[0][0]          \n",
            "__________________________________________________________________________________________________\n",
            "conv2_block3_out (Activation)   (None, 56, 56, 256)  0           conv2_block3_add[0][0]           \n",
            "__________________________________________________________________________________________________\n",
            "conv3_block1_1_conv (Conv2D)    (None, 28, 28, 128)  32896       conv2_block3_out[0][0]           \n",
            "__________________________________________________________________________________________________\n",
            "conv3_block1_1_bn (BatchNormali (None, 28, 28, 128)  512         conv3_block1_1_conv[0][0]        \n",
            "__________________________________________________________________________________________________\n",
            "conv3_block1_1_relu (Activation (None, 28, 28, 128)  0           conv3_block1_1_bn[0][0]          \n",
            "__________________________________________________________________________________________________\n",
            "conv3_block1_2_conv (Conv2D)    (None, 28, 28, 128)  147584      conv3_block1_1_relu[0][0]        \n",
            "__________________________________________________________________________________________________\n",
            "conv3_block1_2_bn (BatchNormali (None, 28, 28, 128)  512         conv3_block1_2_conv[0][0]        \n",
            "__________________________________________________________________________________________________\n",
            "conv3_block1_2_relu (Activation (None, 28, 28, 128)  0           conv3_block1_2_bn[0][0]          \n",
            "__________________________________________________________________________________________________\n",
            "conv3_block1_0_conv (Conv2D)    (None, 28, 28, 512)  131584      conv2_block3_out[0][0]           \n",
            "__________________________________________________________________________________________________\n",
            "conv3_block1_3_conv (Conv2D)    (None, 28, 28, 512)  66048       conv3_block1_2_relu[0][0]        \n",
            "__________________________________________________________________________________________________\n",
            "conv3_block1_0_bn (BatchNormali (None, 28, 28, 512)  2048        conv3_block1_0_conv[0][0]        \n",
            "__________________________________________________________________________________________________\n",
            "conv3_block1_3_bn (BatchNormali (None, 28, 28, 512)  2048        conv3_block1_3_conv[0][0]        \n",
            "__________________________________________________________________________________________________\n",
            "conv3_block1_add (Add)          (None, 28, 28, 512)  0           conv3_block1_0_bn[0][0]          \n",
            "                                                                 conv3_block1_3_bn[0][0]          \n",
            "__________________________________________________________________________________________________\n",
            "conv3_block1_out (Activation)   (None, 28, 28, 512)  0           conv3_block1_add[0][0]           \n",
            "__________________________________________________________________________________________________\n",
            "conv3_block2_1_conv (Conv2D)    (None, 28, 28, 128)  65664       conv3_block1_out[0][0]           \n",
            "__________________________________________________________________________________________________\n",
            "conv3_block2_1_bn (BatchNormali (None, 28, 28, 128)  512         conv3_block2_1_conv[0][0]        \n",
            "__________________________________________________________________________________________________\n",
            "conv3_block2_1_relu (Activation (None, 28, 28, 128)  0           conv3_block2_1_bn[0][0]          \n",
            "__________________________________________________________________________________________________\n",
            "conv3_block2_2_conv (Conv2D)    (None, 28, 28, 128)  147584      conv3_block2_1_relu[0][0]        \n",
            "__________________________________________________________________________________________________\n",
            "conv3_block2_2_bn (BatchNormali (None, 28, 28, 128)  512         conv3_block2_2_conv[0][0]        \n",
            "__________________________________________________________________________________________________\n",
            "conv3_block2_2_relu (Activation (None, 28, 28, 128)  0           conv3_block2_2_bn[0][0]          \n",
            "__________________________________________________________________________________________________\n",
            "conv3_block2_3_conv (Conv2D)    (None, 28, 28, 512)  66048       conv3_block2_2_relu[0][0]        \n",
            "__________________________________________________________________________________________________\n",
            "conv3_block2_3_bn (BatchNormali (None, 28, 28, 512)  2048        conv3_block2_3_conv[0][0]        \n",
            "__________________________________________________________________________________________________\n",
            "conv3_block2_add (Add)          (None, 28, 28, 512)  0           conv3_block1_out[0][0]           \n",
            "                                                                 conv3_block2_3_bn[0][0]          \n",
            "__________________________________________________________________________________________________\n",
            "conv3_block2_out (Activation)   (None, 28, 28, 512)  0           conv3_block2_add[0][0]           \n",
            "__________________________________________________________________________________________________\n",
            "conv3_block3_1_conv (Conv2D)    (None, 28, 28, 128)  65664       conv3_block2_out[0][0]           \n",
            "__________________________________________________________________________________________________\n",
            "conv3_block3_1_bn (BatchNormali (None, 28, 28, 128)  512         conv3_block3_1_conv[0][0]        \n",
            "__________________________________________________________________________________________________\n",
            "conv3_block3_1_relu (Activation (None, 28, 28, 128)  0           conv3_block3_1_bn[0][0]          \n",
            "__________________________________________________________________________________________________\n",
            "conv3_block3_2_conv (Conv2D)    (None, 28, 28, 128)  147584      conv3_block3_1_relu[0][0]        \n",
            "__________________________________________________________________________________________________\n",
            "conv3_block3_2_bn (BatchNormali (None, 28, 28, 128)  512         conv3_block3_2_conv[0][0]        \n",
            "__________________________________________________________________________________________________\n",
            "conv3_block3_2_relu (Activation (None, 28, 28, 128)  0           conv3_block3_2_bn[0][0]          \n",
            "__________________________________________________________________________________________________\n",
            "conv3_block3_3_conv (Conv2D)    (None, 28, 28, 512)  66048       conv3_block3_2_relu[0][0]        \n",
            "__________________________________________________________________________________________________\n",
            "conv3_block3_3_bn (BatchNormali (None, 28, 28, 512)  2048        conv3_block3_3_conv[0][0]        \n",
            "__________________________________________________________________________________________________\n",
            "conv3_block3_add (Add)          (None, 28, 28, 512)  0           conv3_block2_out[0][0]           \n",
            "                                                                 conv3_block3_3_bn[0][0]          \n",
            "__________________________________________________________________________________________________\n",
            "conv3_block3_out (Activation)   (None, 28, 28, 512)  0           conv3_block3_add[0][0]           \n",
            "__________________________________________________________________________________________________\n",
            "conv3_block4_1_conv (Conv2D)    (None, 28, 28, 128)  65664       conv3_block3_out[0][0]           \n",
            "__________________________________________________________________________________________________\n",
            "conv3_block4_1_bn (BatchNormali (None, 28, 28, 128)  512         conv3_block4_1_conv[0][0]        \n",
            "__________________________________________________________________________________________________\n",
            "conv3_block4_1_relu (Activation (None, 28, 28, 128)  0           conv3_block4_1_bn[0][0]          \n",
            "__________________________________________________________________________________________________\n",
            "conv3_block4_2_conv (Conv2D)    (None, 28, 28, 128)  147584      conv3_block4_1_relu[0][0]        \n",
            "__________________________________________________________________________________________________\n",
            "conv3_block4_2_bn (BatchNormali (None, 28, 28, 128)  512         conv3_block4_2_conv[0][0]        \n",
            "__________________________________________________________________________________________________\n",
            "conv3_block4_2_relu (Activation (None, 28, 28, 128)  0           conv3_block4_2_bn[0][0]          \n",
            "__________________________________________________________________________________________________\n",
            "conv3_block4_3_conv (Conv2D)    (None, 28, 28, 512)  66048       conv3_block4_2_relu[0][0]        \n",
            "__________________________________________________________________________________________________\n",
            "conv3_block4_3_bn (BatchNormali (None, 28, 28, 512)  2048        conv3_block4_3_conv[0][0]        \n",
            "__________________________________________________________________________________________________\n",
            "conv3_block4_add (Add)          (None, 28, 28, 512)  0           conv3_block3_out[0][0]           \n",
            "                                                                 conv3_block4_3_bn[0][0]          \n",
            "__________________________________________________________________________________________________\n",
            "conv3_block4_out (Activation)   (None, 28, 28, 512)  0           conv3_block4_add[0][0]           \n",
            "__________________________________________________________________________________________________\n",
            "conv4_block1_1_conv (Conv2D)    (None, 14, 14, 256)  131328      conv3_block4_out[0][0]           \n",
            "__________________________________________________________________________________________________\n",
            "conv4_block1_1_bn (BatchNormali (None, 14, 14, 256)  1024        conv4_block1_1_conv[0][0]        \n",
            "__________________________________________________________________________________________________\n",
            "conv4_block1_1_relu (Activation (None, 14, 14, 256)  0           conv4_block1_1_bn[0][0]          \n",
            "__________________________________________________________________________________________________\n",
            "conv4_block1_2_conv (Conv2D)    (None, 14, 14, 256)  590080      conv4_block1_1_relu[0][0]        \n",
            "__________________________________________________________________________________________________\n",
            "conv4_block1_2_bn (BatchNormali (None, 14, 14, 256)  1024        conv4_block1_2_conv[0][0]        \n",
            "__________________________________________________________________________________________________\n",
            "conv4_block1_2_relu (Activation (None, 14, 14, 256)  0           conv4_block1_2_bn[0][0]          \n",
            "__________________________________________________________________________________________________\n",
            "conv4_block1_0_conv (Conv2D)    (None, 14, 14, 1024) 525312      conv3_block4_out[0][0]           \n",
            "__________________________________________________________________________________________________\n",
            "conv4_block1_3_conv (Conv2D)    (None, 14, 14, 1024) 263168      conv4_block1_2_relu[0][0]        \n",
            "__________________________________________________________________________________________________\n",
            "conv4_block1_0_bn (BatchNormali (None, 14, 14, 1024) 4096        conv4_block1_0_conv[0][0]        \n",
            "__________________________________________________________________________________________________\n",
            "conv4_block1_3_bn (BatchNormali (None, 14, 14, 1024) 4096        conv4_block1_3_conv[0][0]        \n",
            "__________________________________________________________________________________________________\n",
            "conv4_block1_add (Add)          (None, 14, 14, 1024) 0           conv4_block1_0_bn[0][0]          \n",
            "                                                                 conv4_block1_3_bn[0][0]          \n",
            "__________________________________________________________________________________________________\n",
            "conv4_block1_out (Activation)   (None, 14, 14, 1024) 0           conv4_block1_add[0][0]           \n",
            "__________________________________________________________________________________________________\n",
            "conv4_block2_1_conv (Conv2D)    (None, 14, 14, 256)  262400      conv4_block1_out[0][0]           \n",
            "__________________________________________________________________________________________________\n",
            "conv4_block2_1_bn (BatchNormali (None, 14, 14, 256)  1024        conv4_block2_1_conv[0][0]        \n",
            "__________________________________________________________________________________________________\n",
            "conv4_block2_1_relu (Activation (None, 14, 14, 256)  0           conv4_block2_1_bn[0][0]          \n",
            "__________________________________________________________________________________________________\n",
            "conv4_block2_2_conv (Conv2D)    (None, 14, 14, 256)  590080      conv4_block2_1_relu[0][0]        \n",
            "__________________________________________________________________________________________________\n",
            "conv4_block2_2_bn (BatchNormali (None, 14, 14, 256)  1024        conv4_block2_2_conv[0][0]        \n",
            "__________________________________________________________________________________________________\n",
            "conv4_block2_2_relu (Activation (None, 14, 14, 256)  0           conv4_block2_2_bn[0][0]          \n",
            "__________________________________________________________________________________________________\n",
            "conv4_block2_3_conv (Conv2D)    (None, 14, 14, 1024) 263168      conv4_block2_2_relu[0][0]        \n",
            "__________________________________________________________________________________________________\n",
            "conv4_block2_3_bn (BatchNormali (None, 14, 14, 1024) 4096        conv4_block2_3_conv[0][0]        \n",
            "__________________________________________________________________________________________________\n",
            "conv4_block2_add (Add)          (None, 14, 14, 1024) 0           conv4_block1_out[0][0]           \n",
            "                                                                 conv4_block2_3_bn[0][0]          \n",
            "__________________________________________________________________________________________________\n",
            "conv4_block2_out (Activation)   (None, 14, 14, 1024) 0           conv4_block2_add[0][0]           \n",
            "__________________________________________________________________________________________________\n",
            "conv4_block3_1_conv (Conv2D)    (None, 14, 14, 256)  262400      conv4_block2_out[0][0]           \n",
            "__________________________________________________________________________________________________\n",
            "conv4_block3_1_bn (BatchNormali (None, 14, 14, 256)  1024        conv4_block3_1_conv[0][0]        \n",
            "__________________________________________________________________________________________________\n",
            "conv4_block3_1_relu (Activation (None, 14, 14, 256)  0           conv4_block3_1_bn[0][0]          \n",
            "__________________________________________________________________________________________________\n",
            "conv4_block3_2_conv (Conv2D)    (None, 14, 14, 256)  590080      conv4_block3_1_relu[0][0]        \n",
            "__________________________________________________________________________________________________\n",
            "conv4_block3_2_bn (BatchNormali (None, 14, 14, 256)  1024        conv4_block3_2_conv[0][0]        \n",
            "__________________________________________________________________________________________________\n",
            "conv4_block3_2_relu (Activation (None, 14, 14, 256)  0           conv4_block3_2_bn[0][0]          \n",
            "__________________________________________________________________________________________________\n",
            "conv4_block3_3_conv (Conv2D)    (None, 14, 14, 1024) 263168      conv4_block3_2_relu[0][0]        \n",
            "__________________________________________________________________________________________________\n",
            "conv4_block3_3_bn (BatchNormali (None, 14, 14, 1024) 4096        conv4_block3_3_conv[0][0]        \n",
            "__________________________________________________________________________________________________\n",
            "conv4_block3_add (Add)          (None, 14, 14, 1024) 0           conv4_block2_out[0][0]           \n",
            "                                                                 conv4_block3_3_bn[0][0]          \n",
            "__________________________________________________________________________________________________\n",
            "conv4_block3_out (Activation)   (None, 14, 14, 1024) 0           conv4_block3_add[0][0]           \n",
            "__________________________________________________________________________________________________\n",
            "conv4_block4_1_conv (Conv2D)    (None, 14, 14, 256)  262400      conv4_block3_out[0][0]           \n",
            "__________________________________________________________________________________________________\n",
            "conv4_block4_1_bn (BatchNormali (None, 14, 14, 256)  1024        conv4_block4_1_conv[0][0]        \n",
            "__________________________________________________________________________________________________\n",
            "conv4_block4_1_relu (Activation (None, 14, 14, 256)  0           conv4_block4_1_bn[0][0]          \n",
            "__________________________________________________________________________________________________\n",
            "conv4_block4_2_conv (Conv2D)    (None, 14, 14, 256)  590080      conv4_block4_1_relu[0][0]        \n",
            "__________________________________________________________________________________________________\n",
            "conv4_block4_2_bn (BatchNormali (None, 14, 14, 256)  1024        conv4_block4_2_conv[0][0]        \n",
            "__________________________________________________________________________________________________\n",
            "conv4_block4_2_relu (Activation (None, 14, 14, 256)  0           conv4_block4_2_bn[0][0]          \n",
            "__________________________________________________________________________________________________\n",
            "conv4_block4_3_conv (Conv2D)    (None, 14, 14, 1024) 263168      conv4_block4_2_relu[0][0]        \n",
            "__________________________________________________________________________________________________\n",
            "conv4_block4_3_bn (BatchNormali (None, 14, 14, 1024) 4096        conv4_block4_3_conv[0][0]        \n",
            "__________________________________________________________________________________________________\n",
            "conv4_block4_add (Add)          (None, 14, 14, 1024) 0           conv4_block3_out[0][0]           \n",
            "                                                                 conv4_block4_3_bn[0][0]          \n",
            "__________________________________________________________________________________________________\n",
            "conv4_block4_out (Activation)   (None, 14, 14, 1024) 0           conv4_block4_add[0][0]           \n",
            "__________________________________________________________________________________________________\n",
            "conv4_block5_1_conv (Conv2D)    (None, 14, 14, 256)  262400      conv4_block4_out[0][0]           \n",
            "__________________________________________________________________________________________________\n",
            "conv4_block5_1_bn (BatchNormali (None, 14, 14, 256)  1024        conv4_block5_1_conv[0][0]        \n",
            "__________________________________________________________________________________________________\n",
            "conv4_block5_1_relu (Activation (None, 14, 14, 256)  0           conv4_block5_1_bn[0][0]          \n",
            "__________________________________________________________________________________________________\n",
            "conv4_block5_2_conv (Conv2D)    (None, 14, 14, 256)  590080      conv4_block5_1_relu[0][0]        \n",
            "__________________________________________________________________________________________________\n",
            "conv4_block5_2_bn (BatchNormali (None, 14, 14, 256)  1024        conv4_block5_2_conv[0][0]        \n",
            "__________________________________________________________________________________________________\n",
            "conv4_block5_2_relu (Activation (None, 14, 14, 256)  0           conv4_block5_2_bn[0][0]          \n",
            "__________________________________________________________________________________________________\n",
            "conv4_block5_3_conv (Conv2D)    (None, 14, 14, 1024) 263168      conv4_block5_2_relu[0][0]        \n",
            "__________________________________________________________________________________________________\n",
            "conv4_block5_3_bn (BatchNormali (None, 14, 14, 1024) 4096        conv4_block5_3_conv[0][0]        \n",
            "__________________________________________________________________________________________________\n",
            "conv4_block5_add (Add)          (None, 14, 14, 1024) 0           conv4_block4_out[0][0]           \n",
            "                                                                 conv4_block5_3_bn[0][0]          \n",
            "__________________________________________________________________________________________________\n",
            "conv4_block5_out (Activation)   (None, 14, 14, 1024) 0           conv4_block5_add[0][0]           \n",
            "__________________________________________________________________________________________________\n",
            "conv4_block6_1_conv (Conv2D)    (None, 14, 14, 256)  262400      conv4_block5_out[0][0]           \n",
            "__________________________________________________________________________________________________\n",
            "conv4_block6_1_bn (BatchNormali (None, 14, 14, 256)  1024        conv4_block6_1_conv[0][0]        \n",
            "__________________________________________________________________________________________________\n",
            "conv4_block6_1_relu (Activation (None, 14, 14, 256)  0           conv4_block6_1_bn[0][0]          \n",
            "__________________________________________________________________________________________________\n",
            "conv4_block6_2_conv (Conv2D)    (None, 14, 14, 256)  590080      conv4_block6_1_relu[0][0]        \n",
            "__________________________________________________________________________________________________\n",
            "conv4_block6_2_bn (BatchNormali (None, 14, 14, 256)  1024        conv4_block6_2_conv[0][0]        \n",
            "__________________________________________________________________________________________________\n",
            "conv4_block6_2_relu (Activation (None, 14, 14, 256)  0           conv4_block6_2_bn[0][0]          \n",
            "__________________________________________________________________________________________________\n",
            "conv4_block6_3_conv (Conv2D)    (None, 14, 14, 1024) 263168      conv4_block6_2_relu[0][0]        \n",
            "__________________________________________________________________________________________________\n",
            "conv4_block6_3_bn (BatchNormali (None, 14, 14, 1024) 4096        conv4_block6_3_conv[0][0]        \n",
            "__________________________________________________________________________________________________\n",
            "conv4_block6_add (Add)          (None, 14, 14, 1024) 0           conv4_block5_out[0][0]           \n",
            "                                                                 conv4_block6_3_bn[0][0]          \n",
            "__________________________________________________________________________________________________\n",
            "conv4_block6_out (Activation)   (None, 14, 14, 1024) 0           conv4_block6_add[0][0]           \n",
            "__________________________________________________________________________________________________\n",
            "conv5_block1_1_conv (Conv2D)    (None, 7, 7, 512)    524800      conv4_block6_out[0][0]           \n",
            "__________________________________________________________________________________________________\n",
            "conv5_block1_1_bn (BatchNormali (None, 7, 7, 512)    2048        conv5_block1_1_conv[0][0]        \n",
            "__________________________________________________________________________________________________\n",
            "conv5_block1_1_relu (Activation (None, 7, 7, 512)    0           conv5_block1_1_bn[0][0]          \n",
            "__________________________________________________________________________________________________\n",
            "conv5_block1_2_conv (Conv2D)    (None, 7, 7, 512)    2359808     conv5_block1_1_relu[0][0]        \n",
            "__________________________________________________________________________________________________\n",
            "conv5_block1_2_bn (BatchNormali (None, 7, 7, 512)    2048        conv5_block1_2_conv[0][0]        \n",
            "__________________________________________________________________________________________________\n",
            "conv5_block1_2_relu (Activation (None, 7, 7, 512)    0           conv5_block1_2_bn[0][0]          \n",
            "__________________________________________________________________________________________________\n",
            "conv5_block1_0_conv (Conv2D)    (None, 7, 7, 2048)   2099200     conv4_block6_out[0][0]           \n",
            "__________________________________________________________________________________________________\n",
            "conv5_block1_3_conv (Conv2D)    (None, 7, 7, 2048)   1050624     conv5_block1_2_relu[0][0]        \n",
            "__________________________________________________________________________________________________\n",
            "conv5_block1_0_bn (BatchNormali (None, 7, 7, 2048)   8192        conv5_block1_0_conv[0][0]        \n",
            "__________________________________________________________________________________________________\n",
            "conv5_block1_3_bn (BatchNormali (None, 7, 7, 2048)   8192        conv5_block1_3_conv[0][0]        \n",
            "__________________________________________________________________________________________________\n",
            "conv5_block1_add (Add)          (None, 7, 7, 2048)   0           conv5_block1_0_bn[0][0]          \n",
            "                                                                 conv5_block1_3_bn[0][0]          \n",
            "__________________________________________________________________________________________________\n",
            "conv5_block1_out (Activation)   (None, 7, 7, 2048)   0           conv5_block1_add[0][0]           \n",
            "__________________________________________________________________________________________________\n",
            "conv5_block2_1_conv (Conv2D)    (None, 7, 7, 512)    1049088     conv5_block1_out[0][0]           \n",
            "__________________________________________________________________________________________________\n",
            "conv5_block2_1_bn (BatchNormali (None, 7, 7, 512)    2048        conv5_block2_1_conv[0][0]        \n",
            "__________________________________________________________________________________________________\n",
            "conv5_block2_1_relu (Activation (None, 7, 7, 512)    0           conv5_block2_1_bn[0][0]          \n",
            "__________________________________________________________________________________________________\n",
            "conv5_block2_2_conv (Conv2D)    (None, 7, 7, 512)    2359808     conv5_block2_1_relu[0][0]        \n",
            "__________________________________________________________________________________________________\n",
            "conv5_block2_2_bn (BatchNormali (None, 7, 7, 512)    2048        conv5_block2_2_conv[0][0]        \n",
            "__________________________________________________________________________________________________\n",
            "conv5_block2_2_relu (Activation (None, 7, 7, 512)    0           conv5_block2_2_bn[0][0]          \n",
            "__________________________________________________________________________________________________\n",
            "conv5_block2_3_conv (Conv2D)    (None, 7, 7, 2048)   1050624     conv5_block2_2_relu[0][0]        \n",
            "__________________________________________________________________________________________________\n",
            "conv5_block2_3_bn (BatchNormali (None, 7, 7, 2048)   8192        conv5_block2_3_conv[0][0]        \n",
            "__________________________________________________________________________________________________\n",
            "conv5_block2_add (Add)          (None, 7, 7, 2048)   0           conv5_block1_out[0][0]           \n",
            "                                                                 conv5_block2_3_bn[0][0]          \n",
            "__________________________________________________________________________________________________\n",
            "conv5_block2_out (Activation)   (None, 7, 7, 2048)   0           conv5_block2_add[0][0]           \n",
            "__________________________________________________________________________________________________\n",
            "conv5_block3_1_conv (Conv2D)    (None, 7, 7, 512)    1049088     conv5_block2_out[0][0]           \n",
            "__________________________________________________________________________________________________\n",
            "conv5_block3_1_bn (BatchNormali (None, 7, 7, 512)    2048        conv5_block3_1_conv[0][0]        \n",
            "__________________________________________________________________________________________________\n",
            "conv5_block3_1_relu (Activation (None, 7, 7, 512)    0           conv5_block3_1_bn[0][0]          \n",
            "__________________________________________________________________________________________________\n",
            "conv5_block3_2_conv (Conv2D)    (None, 7, 7, 512)    2359808     conv5_block3_1_relu[0][0]        \n",
            "__________________________________________________________________________________________________\n",
            "conv5_block3_2_bn (BatchNormali (None, 7, 7, 512)    2048        conv5_block3_2_conv[0][0]        \n",
            "__________________________________________________________________________________________________\n",
            "conv5_block3_2_relu (Activation (None, 7, 7, 512)    0           conv5_block3_2_bn[0][0]          \n",
            "__________________________________________________________________________________________________\n",
            "conv5_block3_3_conv (Conv2D)    (None, 7, 7, 2048)   1050624     conv5_block3_2_relu[0][0]        \n",
            "__________________________________________________________________________________________________\n",
            "conv5_block3_3_bn (BatchNormali (None, 7, 7, 2048)   8192        conv5_block3_3_conv[0][0]        \n",
            "__________________________________________________________________________________________________\n",
            "conv5_block3_add (Add)          (None, 7, 7, 2048)   0           conv5_block2_out[0][0]           \n",
            "                                                                 conv5_block3_3_bn[0][0]          \n",
            "__________________________________________________________________________________________________\n",
            "conv5_block3_out (Activation)   (None, 7, 7, 2048)   0           conv5_block3_add[0][0]           \n",
            "==================================================================================================\n",
            "Total params: 23,587,712\n",
            "Trainable params: 23,534,592\n",
            "Non-trainable params: 53,120\n",
>>>>>>> 52f4df26d6748f2c01488f3ca2ed0866bebfab38
            "__________________________________________________________________________________________________\n"
          ],
          "name": "stdout"
        }
      ]
    },
    {
      "cell_type": "code",
      "metadata": {
        "id": "Yo0obEP_Qq5H"
      },
      "source": [
        "base_model.trainable = False"
      ],
      "execution_count": null,
      "outputs": []
    },
    {
      "cell_type": "code",
      "metadata": {
        "id": "8gNPYRjMRw1z"
      },
      "source": [
        "from tensorflow.keras.layers import Dense, GlobalAveragePooling2D"
      ],
      "execution_count": null,
      "outputs": []
    },
    {
      "cell_type": "code",
      "metadata": {
        "id": "5vw0Ng4WSIgx"
      },
      "source": [
        "global_average_layer = GlobalAveragePooling2D()\n",
        "prediction_layer = Dense(2, activation=\"softmax\")"
      ],
      "execution_count": null,
      "outputs": []
    },
    {
      "cell_type": "code",
      "metadata": {
        "id": "e1saozKjSSIz"
      },
      "source": [
        "model = tf.keras.Sequential([\n",
        "                             base_model,\n",
        "                             global_average_layer,\n",
        "                             prediction_layer\n",
        "])"
      ],
      "execution_count": null,
      "outputs": []
    },
    {
      "cell_type": "code",
      "metadata": {
        "id": "ndnPzNC8S9Im",
        "colab": {
<<<<<<< HEAD
          "base_uri": "https://localhost:8080/"
        },
        "outputId": "dd931d37-65c5-4e25-bd32-f0811810b59f"
=======
          "base_uri": "https://localhost:8080/",
          "height": 255
        },
        "outputId": "c218c86c-0cb0-475a-f714-af7ed12626ba"
>>>>>>> 52f4df26d6748f2c01488f3ca2ed0866bebfab38
      },
      "source": [
        "model.summary()"
      ],
      "execution_count": null,
      "outputs": [
        {
          "output_type": "stream",
          "text": [
            "Model: \"sequential\"\n",
            "_________________________________________________________________\n",
            "Layer (type)                 Output Shape              Param #   \n",
            "=================================================================\n",
<<<<<<< HEAD
            "mobilenetv2_1.00_224 (Functi (None, 10, 10, 1280)      2257984   \n",
=======
            "resnet50 (Model)             (None, 7, 7, 2048)        23587712  \n",
>>>>>>> 52f4df26d6748f2c01488f3ca2ed0866bebfab38
            "_________________________________________________________________\n",
            "global_average_pooling2d (Gl (None, 1280)              0         \n",
            "_________________________________________________________________\n",
            "dense (Dense)                (None, 2)                 2562      \n",
            "=================================================================\n",
<<<<<<< HEAD
            "Total params: 2,260,546\n",
            "Trainable params: 2,562\n",
            "Non-trainable params: 2,257,984\n",
=======
            "Total params: 23,591,810\n",
            "Trainable params: 4,098\n",
            "Non-trainable params: 23,587,712\n",
>>>>>>> 52f4df26d6748f2c01488f3ca2ed0866bebfab38
            "_________________________________________________________________\n"
          ],
          "name": "stdout"
        }
      ]
    },
    {
      "cell_type": "code",
      "metadata": {
        "id": "LUZ0L8qUS_w-"
      },
      "source": [
        "model.compile(optimizer=tf.keras.optimizers.Adam(learning_rate=0.001), loss=tf.keras.losses.CategoricalCrossentropy(), metrics=['accuracy'])"
      ],
      "execution_count": null,
      "outputs": []
    },
    {
      "cell_type": "markdown",
      "metadata": {
        "id": "BAOJvMJuXz6H"
      },
      "source": [
        "# 모델 로드"
      ]
    },
    {
      "cell_type": "code",
      "metadata": {
<<<<<<< HEAD
        "id": "PyAOyrx2BtvX"
      },
      "source": [
        "model = keras.models.load_model('/content/drive/My Drive/trained_model/rocopicker_Season_2')"
      ],
      "execution_count": null,
      "outputs": []
=======
        "id": "PyAOyrx2BtvX",
        "colab": {
          "base_uri": "https://localhost:8080/",
          "height": 327
        },
        "outputId": "47ab7709-ccf2-43b3-9697-b33aec7e4fe8"
      },
      "source": [
        "model = keras.models.load_model('/content/drive/My Drive/trained_model/rocopickerVGG')"
      ],
      "execution_count": null,
      "outputs": [
        {
          "output_type": "error",
          "ename": "OSError",
          "evalue": "ignored",
          "traceback": [
            "\u001b[0;31m---------------------------------------------------------------------------\u001b[0m",
            "\u001b[0;31mOSError\u001b[0m                                   Traceback (most recent call last)",
            "\u001b[0;32m<ipython-input-19-0e768f4f1656>\u001b[0m in \u001b[0;36m<module>\u001b[0;34m()\u001b[0m\n\u001b[0;32m----> 1\u001b[0;31m \u001b[0mmodel\u001b[0m \u001b[0;34m=\u001b[0m \u001b[0mkeras\u001b[0m\u001b[0;34m.\u001b[0m\u001b[0mmodels\u001b[0m\u001b[0;34m.\u001b[0m\u001b[0mload_model\u001b[0m\u001b[0;34m(\u001b[0m\u001b[0;34m'/content/drive/My Drive/trained_model/rocopickerVGG'\u001b[0m\u001b[0;34m)\u001b[0m\u001b[0;34m\u001b[0m\u001b[0;34m\u001b[0m\u001b[0m\n\u001b[0m",
            "\u001b[0;32m/usr/local/lib/python3.6/dist-packages/tensorflow_core/python/keras/saving/save.py\u001b[0m in \u001b[0;36mload_model\u001b[0;34m(filepath, custom_objects, compile)\u001b[0m\n\u001b[1;32m    147\u001b[0m \u001b[0;34m\u001b[0m\u001b[0m\n\u001b[1;32m    148\u001b[0m   \u001b[0;32mif\u001b[0m \u001b[0misinstance\u001b[0m\u001b[0;34m(\u001b[0m\u001b[0mfilepath\u001b[0m\u001b[0;34m,\u001b[0m \u001b[0msix\u001b[0m\u001b[0;34m.\u001b[0m\u001b[0mstring_types\u001b[0m\u001b[0;34m)\u001b[0m\u001b[0;34m:\u001b[0m\u001b[0;34m\u001b[0m\u001b[0;34m\u001b[0m\u001b[0m\n\u001b[0;32m--> 149\u001b[0;31m     \u001b[0mloader_impl\u001b[0m\u001b[0;34m.\u001b[0m\u001b[0mparse_saved_model\u001b[0m\u001b[0;34m(\u001b[0m\u001b[0mfilepath\u001b[0m\u001b[0;34m)\u001b[0m\u001b[0;34m\u001b[0m\u001b[0;34m\u001b[0m\u001b[0m\n\u001b[0m\u001b[1;32m    150\u001b[0m     \u001b[0;32mreturn\u001b[0m \u001b[0msaved_model_load\u001b[0m\u001b[0;34m.\u001b[0m\u001b[0mload\u001b[0m\u001b[0;34m(\u001b[0m\u001b[0mfilepath\u001b[0m\u001b[0;34m,\u001b[0m \u001b[0mcompile\u001b[0m\u001b[0;34m)\u001b[0m\u001b[0;34m\u001b[0m\u001b[0;34m\u001b[0m\u001b[0m\n\u001b[1;32m    151\u001b[0m \u001b[0;34m\u001b[0m\u001b[0m\n",
            "\u001b[0;32m/usr/local/lib/python3.6/dist-packages/tensorflow_core/python/saved_model/loader_impl.py\u001b[0m in \u001b[0;36mparse_saved_model\u001b[0;34m(export_dir)\u001b[0m\n\u001b[1;32m     81\u001b[0m                   (export_dir,\n\u001b[1;32m     82\u001b[0m                    \u001b[0mconstants\u001b[0m\u001b[0;34m.\u001b[0m\u001b[0mSAVED_MODEL_FILENAME_PBTXT\u001b[0m\u001b[0;34m,\u001b[0m\u001b[0;34m\u001b[0m\u001b[0;34m\u001b[0m\u001b[0m\n\u001b[0;32m---> 83\u001b[0;31m                    constants.SAVED_MODEL_FILENAME_PB))\n\u001b[0m\u001b[1;32m     84\u001b[0m \u001b[0;34m\u001b[0m\u001b[0m\n\u001b[1;32m     85\u001b[0m \u001b[0;34m\u001b[0m\u001b[0m\n",
            "\u001b[0;31mOSError\u001b[0m: SavedModel file does not exist at: /content/drive/My Drive/trained_model/rocopickerVGG/{saved_model.pbtxt|saved_model.pb}"
          ]
        }
      ]
>>>>>>> 52f4df26d6748f2c01488f3ca2ed0866bebfab38
    },
    {
      "cell_type": "markdown",
      "metadata": {
        "id": "1wrPCC0Xc73L"
      },
      "source": [
        "# 모델 학습"
      ]
    },
    {
      "cell_type": "code",
      "metadata": {
        "id": "n41cd8ogTo1n"
      },
      "source": [
        "MODEL_DIR = \"/content/drive/My\\ Drive/trained_model/rocopicker2_RMS\""
      ],
      "execution_count": null,
      "outputs": []
    },
    {
      "cell_type": "code",
      "metadata": {
        "id": "4Xa5sX5TUTr9",
        "colab": {
<<<<<<< HEAD
          "base_uri": "https://localhost:8080/"
        },
        "outputId": "faaf23ab-3cd8-4dd1-a506-d1dae798f88a"
=======
          "base_uri": "https://localhost:8080/",
          "height": 701
        },
        "outputId": "0f9f329a-9c8c-444c-9b92-af9dad40e2e7"
>>>>>>> 52f4df26d6748f2c01488f3ca2ed0866bebfab38
      },
      "source": [
        "callbacks = [\n",
        "    keras.callbacks.ModelCheckpoint(\n",
<<<<<<< HEAD
        "        filepath='/content/drive/My Drive/trained_model/rocopicker_Season_2',\n",
=======
        "        filepath='/content/drive/My Drive/trained_model/rocopickervGG',\n",
>>>>>>> 52f4df26d6748f2c01488f3ca2ed0866bebfab38
        "        monitor='val_loss',\n",
        "        save_best_only=True,\n",
        "        verbose=1)\n",
        "]\n",
        "\n",
        "model.fit(generated_train_data, callbacks=callbacks, epochs=30, validation_data=generated_validation_data, class_weight={0 : 2575/4551 , 1: 1- 2575/4551})"
      ],
      "execution_count": null,
      "outputs": [
        {
          "output_type": "stream",
          "text": [
<<<<<<< HEAD
            "Epoch 1/30\n",
            "228/228 [==============================] - 422s 2s/step - loss: 0.3188 - accuracy: 0.6299 - val_loss: 0.5620 - val_accuracy: 0.7250\n",
            "\n",
            "Epoch 00001: val_loss improved from inf to 0.56201, saving model to /content/drive/My Drive/trained_model/rocopicker_Season_2\n",
            "INFO:tensorflow:Assets written to: /content/drive/My Drive/trained_model/rocopicker_Season_2/assets\n",
            "Epoch 2/30\n",
            "228/228 [==============================] - 401s 2s/step - loss: 0.2587 - accuracy: 0.7306 - val_loss: 0.5786 - val_accuracy: 0.7050\n",
            "\n",
            "Epoch 00002: val_loss did not improve from 0.56201\n",
            "Epoch 3/30\n",
            "228/228 [==============================] - 374s 2s/step - loss: 0.2366 - accuracy: 0.7593 - val_loss: 0.5031 - val_accuracy: 0.7525\n",
            "\n",
            "Epoch 00003: val_loss improved from 0.56201 to 0.50307, saving model to /content/drive/My Drive/trained_model/rocopicker_Season_2\n",
            "INFO:tensorflow:Assets written to: /content/drive/My Drive/trained_model/rocopicker_Season_2/assets\n",
            "Epoch 4/30\n",
            "228/228 [==============================] - 369s 2s/step - loss: 0.2379 - accuracy: 0.7571 - val_loss: 0.4728 - val_accuracy: 0.7700\n",
            "\n",
            "Epoch 00004: val_loss improved from 0.50307 to 0.47278, saving model to /content/drive/My Drive/trained_model/rocopicker_Season_2\n",
            "INFO:tensorflow:Assets written to: /content/drive/My Drive/trained_model/rocopicker_Season_2/assets\n",
            "Epoch 5/30\n",
            "228/228 [==============================] - 364s 2s/step - loss: 0.2355 - accuracy: 0.7660 - val_loss: 0.4843 - val_accuracy: 0.7725\n",
            "\n",
            "Epoch 00005: val_loss did not improve from 0.47278\n",
            "Epoch 6/30\n",
            "228/228 [==============================] - 366s 2s/step - loss: 0.2285 - accuracy: 0.7744 - val_loss: 0.4488 - val_accuracy: 0.7650\n",
            "\n",
            "Epoch 00006: val_loss improved from 0.47278 to 0.44876, saving model to /content/drive/My Drive/trained_model/rocopicker_Season_2\n",
            "INFO:tensorflow:Assets written to: /content/drive/My Drive/trained_model/rocopicker_Season_2/assets\n",
            "Epoch 7/30\n",
            "228/228 [==============================] - 362s 2s/step - loss: 0.2277 - accuracy: 0.7842 - val_loss: 0.4525 - val_accuracy: 0.7775\n",
            "\n",
            "Epoch 00007: val_loss did not improve from 0.44876\n",
            "Epoch 8/30\n",
            "228/228 [==============================] - 363s 2s/step - loss: 0.2188 - accuracy: 0.7861 - val_loss: 0.4720 - val_accuracy: 0.7675\n",
            "\n",
            "Epoch 00008: val_loss did not improve from 0.44876\n",
            "Epoch 9/30\n",
            "228/228 [==============================] - 362s 2s/step - loss: 0.2279 - accuracy: 0.7829 - val_loss: 0.5061 - val_accuracy: 0.7450\n",
            "\n",
            "Epoch 00009: val_loss did not improve from 0.44876\n",
            "Epoch 10/30\n",
            "228/228 [==============================] - 362s 2s/step - loss: 0.2148 - accuracy: 0.7966 - val_loss: 0.4493 - val_accuracy: 0.7800\n",
            "\n",
            "Epoch 00010: val_loss did not improve from 0.44876\n",
            "Epoch 11/30\n",
            "228/228 [==============================] - 362s 2s/step - loss: 0.2106 - accuracy: 0.8005 - val_loss: 0.4967 - val_accuracy: 0.7475\n",
            "\n",
            "Epoch 00011: val_loss did not improve from 0.44876\n",
            "Epoch 12/30\n",
            "228/228 [==============================] - 361s 2s/step - loss: 0.2216 - accuracy: 0.7814 - val_loss: 0.4428 - val_accuracy: 0.8000\n",
            "\n",
            "Epoch 00012: val_loss improved from 0.44876 to 0.44282, saving model to /content/drive/My Drive/trained_model/rocopicker_Season_2\n",
            "INFO:tensorflow:Assets written to: /content/drive/My Drive/trained_model/rocopicker_Season_2/assets\n",
            "Epoch 13/30\n",
            "228/228 [==============================] - 362s 2s/step - loss: 0.2199 - accuracy: 0.7824 - val_loss: 0.4536 - val_accuracy: 0.7750\n",
            "\n",
            "Epoch 00013: val_loss did not improve from 0.44282\n",
            "Epoch 14/30\n",
            "228/228 [==============================] - 362s 2s/step - loss: 0.2113 - accuracy: 0.8021 - val_loss: 0.4131 - val_accuracy: 0.8175\n",
            "\n",
            "Epoch 00014: val_loss improved from 0.44282 to 0.41308, saving model to /content/drive/My Drive/trained_model/rocopicker_Season_2\n",
            "INFO:tensorflow:Assets written to: /content/drive/My Drive/trained_model/rocopicker_Season_2/assets\n",
            "Epoch 15/30\n",
            "228/228 [==============================] - 363s 2s/step - loss: 0.2100 - accuracy: 0.7972 - val_loss: 0.5165 - val_accuracy: 0.7375\n",
            "\n",
            "Epoch 00015: val_loss did not improve from 0.41308\n",
            "Epoch 16/30\n",
            "228/228 [==============================] - 366s 2s/step - loss: 0.2075 - accuracy: 0.8020 - val_loss: 0.4496 - val_accuracy: 0.7950\n",
            "\n",
            "Epoch 00016: val_loss did not improve from 0.41308\n",
            "Epoch 17/30\n",
            "228/228 [==============================] - 363s 2s/step - loss: 0.2141 - accuracy: 0.7910 - val_loss: 0.4623 - val_accuracy: 0.7700\n",
            "\n",
            "Epoch 00017: val_loss did not improve from 0.41308\n",
            "Epoch 18/30\n",
            "228/228 [==============================] - 362s 2s/step - loss: 0.2097 - accuracy: 0.7931 - val_loss: 0.4591 - val_accuracy: 0.7925\n",
            "\n",
            "Epoch 00018: val_loss did not improve from 0.41308\n",
            "Epoch 19/30\n",
            "228/228 [==============================] - 363s 2s/step - loss: 0.2207 - accuracy: 0.7883 - val_loss: 0.4708 - val_accuracy: 0.7525\n",
            "\n",
            "Epoch 00019: val_loss did not improve from 0.41308\n",
            "Epoch 20/30\n",
            "228/228 [==============================] - 363s 2s/step - loss: 0.2071 - accuracy: 0.8003 - val_loss: 0.4660 - val_accuracy: 0.7700\n",
            "\n",
            "Epoch 00020: val_loss did not improve from 0.41308\n",
            "Epoch 21/30\n",
            "228/228 [==============================] - 362s 2s/step - loss: 0.2081 - accuracy: 0.7973 - val_loss: 0.5233 - val_accuracy: 0.7325\n",
            "\n",
            "Epoch 00021: val_loss did not improve from 0.41308\n",
            "Epoch 22/30\n",
            "228/228 [==============================] - 361s 2s/step - loss: 0.2112 - accuracy: 0.7950 - val_loss: 0.5006 - val_accuracy: 0.7450\n",
            "\n",
            "Epoch 00022: val_loss did not improve from 0.41308\n",
            "Epoch 23/30\n",
            "228/228 [==============================] - 361s 2s/step - loss: 0.2085 - accuracy: 0.7918 - val_loss: 0.4209 - val_accuracy: 0.7825\n",
            "\n",
            "Epoch 00023: val_loss did not improve from 0.41308\n",
            "Epoch 24/30\n",
            "228/228 [==============================] - 363s 2s/step - loss: 0.2160 - accuracy: 0.7911 - val_loss: 0.4543 - val_accuracy: 0.7725\n",
            "\n",
            "Epoch 00024: val_loss did not improve from 0.41308\n",
            "Epoch 25/30\n",
            "228/228 [==============================] - 365s 2s/step - loss: 0.2097 - accuracy: 0.7960 - val_loss: 0.4240 - val_accuracy: 0.7875\n",
            "\n",
            "Epoch 00025: val_loss did not improve from 0.41308\n",
            "Epoch 26/30\n",
            "228/228 [==============================] - 369s 2s/step - loss: 0.2140 - accuracy: 0.7856 - val_loss: 0.5088 - val_accuracy: 0.7450\n",
            "\n",
            "Epoch 00026: val_loss did not improve from 0.41308\n",
            "Epoch 27/30\n",
            "228/228 [==============================] - 370s 2s/step - loss: 0.2121 - accuracy: 0.7950 - val_loss: 0.4626 - val_accuracy: 0.7700\n",
            "\n",
            "Epoch 00027: val_loss did not improve from 0.41308\n",
            "Epoch 28/30\n",
            "228/228 [==============================] - 373s 2s/step - loss: 0.2079 - accuracy: 0.8029 - val_loss: 0.4681 - val_accuracy: 0.7725\n",
            "\n",
            "Epoch 00028: val_loss did not improve from 0.41308\n",
            "Epoch 29/30\n",
            "228/228 [==============================] - 373s 2s/step - loss: 0.2011 - accuracy: 0.8097 - val_loss: 0.4421 - val_accuracy: 0.7900\n",
            "\n",
            "Epoch 00029: val_loss did not improve from 0.41308\n",
            "Epoch 30/30\n",
            "228/228 [==============================] - 372s 2s/step - loss: 0.2015 - accuracy: 0.8074 - val_loss: 0.5785 - val_accuracy: 0.7275\n",
            "\n",
            "Epoch 00030: val_loss did not improve from 0.41308\n"
=======
            "Train for 228 steps, validate for 20 steps\n",
            "Epoch 1/10\n",
            "227/228 [============================>.] - ETA: 9s - loss: 0.6275 - accuracy: 0.6846 \n",
            "Epoch 00001: val_loss improved from inf to 1.37177, saving model to /content/drive/My Drive/trained_model/rocopickervGG\n",
            "WARNING:tensorflow:From /usr/local/lib/python3.6/dist-packages/tensorflow_core/python/ops/resource_variable_ops.py:1781: calling BaseResourceVariable.__init__ (from tensorflow.python.ops.resource_variable_ops) with constraint is deprecated and will be removed in a future version.\n",
            "Instructions for updating:\n",
            "If using Keras pass *_constraint arguments to layers.\n",
            "INFO:tensorflow:Assets written to: /content/drive/My Drive/trained_model/rocopickervGG/assets\n",
            "228/228 [==============================] - 2302s 10s/step - loss: 0.6268 - accuracy: 0.6851 - val_loss: 1.3718 - val_accuracy: 0.5000\n",
            "Epoch 2/10\n",
            "227/228 [============================>.] - ETA: 9s - loss: 0.5097 - accuracy: 0.7583 \n",
            "Epoch 00002: val_loss did not improve from 1.37177\n",
            "228/228 [==============================] - 2353s 10s/step - loss: 0.5096 - accuracy: 0.7579 - val_loss: 1.4936 - val_accuracy: 0.5000\n",
            "Epoch 3/10\n",
            "227/228 [============================>.] - ETA: 9s - loss: 0.4755 - accuracy: 0.7793 \n",
            "Epoch 00003: val_loss improved from 1.37177 to 1.34884, saving model to /content/drive/My Drive/trained_model/rocopickervGG\n",
            "INFO:tensorflow:Assets written to: /content/drive/My Drive/trained_model/rocopickervGG/assets\n",
            "228/228 [==============================] - 2398s 11s/step - loss: 0.4759 - accuracy: 0.7792 - val_loss: 1.3488 - val_accuracy: 0.5000\n",
            "Epoch 4/10\n",
            "101/228 [============>.................] - ETA: 24:09 - loss: 0.4651 - accuracy: 0.7805WARNING:tensorflow:Can save best model only with val_loss available, skipping.\n"
>>>>>>> 52f4df26d6748f2c01488f3ca2ed0866bebfab38
          ],
          "name": "stdout"
        },
        {
<<<<<<< HEAD
          "output_type": "execute_result",
          "data": {
            "text/plain": [
              "<tensorflow.python.keras.callbacks.History at 0x7f980e495cd0>"
            ]
          },
          "metadata": {
            "tags": []
          },
          "execution_count": 58
=======
          "output_type": "error",
          "ename": "KeyboardInterrupt",
          "evalue": "ignored",
          "traceback": [
            "\u001b[0;31m---------------------------------------------------------------------------\u001b[0m",
            "\u001b[0;31mKeyboardInterrupt\u001b[0m                         Traceback (most recent call last)",
            "\u001b[0;32m<ipython-input-20-743e9d853628>\u001b[0m in \u001b[0;36m<module>\u001b[0;34m()\u001b[0m\n\u001b[1;32m      7\u001b[0m ]\n\u001b[1;32m      8\u001b[0m \u001b[0;34m\u001b[0m\u001b[0m\n\u001b[0;32m----> 9\u001b[0;31m \u001b[0mmodel\u001b[0m\u001b[0;34m.\u001b[0m\u001b[0mfit\u001b[0m\u001b[0;34m(\u001b[0m\u001b[0mgenerated_train_data\u001b[0m\u001b[0;34m,\u001b[0m \u001b[0mcallbacks\u001b[0m\u001b[0;34m=\u001b[0m\u001b[0mcallbacks\u001b[0m\u001b[0;34m,\u001b[0m \u001b[0mepochs\u001b[0m\u001b[0;34m=\u001b[0m\u001b[0;36m10\u001b[0m\u001b[0;34m,\u001b[0m \u001b[0mvalidation_data\u001b[0m\u001b[0;34m=\u001b[0m\u001b[0mgenerated_validation_data\u001b[0m\u001b[0;34m)\u001b[0m\u001b[0;34m\u001b[0m\u001b[0;34m\u001b[0m\u001b[0m\n\u001b[0m",
            "\u001b[0;32m/usr/local/lib/python3.6/dist-packages/tensorflow_core/python/keras/engine/training.py\u001b[0m in \u001b[0;36mfit\u001b[0;34m(self, x, y, batch_size, epochs, verbose, callbacks, validation_split, validation_data, shuffle, class_weight, sample_weight, initial_epoch, steps_per_epoch, validation_steps, validation_freq, max_queue_size, workers, use_multiprocessing, **kwargs)\u001b[0m\n\u001b[1;32m    726\u001b[0m         \u001b[0mmax_queue_size\u001b[0m\u001b[0;34m=\u001b[0m\u001b[0mmax_queue_size\u001b[0m\u001b[0;34m,\u001b[0m\u001b[0;34m\u001b[0m\u001b[0;34m\u001b[0m\u001b[0m\n\u001b[1;32m    727\u001b[0m         \u001b[0mworkers\u001b[0m\u001b[0;34m=\u001b[0m\u001b[0mworkers\u001b[0m\u001b[0;34m,\u001b[0m\u001b[0;34m\u001b[0m\u001b[0;34m\u001b[0m\u001b[0m\n\u001b[0;32m--> 728\u001b[0;31m         use_multiprocessing=use_multiprocessing)\n\u001b[0m\u001b[1;32m    729\u001b[0m \u001b[0;34m\u001b[0m\u001b[0m\n\u001b[1;32m    730\u001b[0m   def evaluate(self,\n",
            "\u001b[0;32m/usr/local/lib/python3.6/dist-packages/tensorflow_core/python/keras/engine/training_v2.py\u001b[0m in \u001b[0;36mfit\u001b[0;34m(self, model, x, y, batch_size, epochs, verbose, callbacks, validation_split, validation_data, shuffle, class_weight, sample_weight, initial_epoch, steps_per_epoch, validation_steps, validation_freq, **kwargs)\u001b[0m\n\u001b[1;32m    322\u001b[0m                 \u001b[0mmode\u001b[0m\u001b[0;34m=\u001b[0m\u001b[0mModeKeys\u001b[0m\u001b[0;34m.\u001b[0m\u001b[0mTRAIN\u001b[0m\u001b[0;34m,\u001b[0m\u001b[0;34m\u001b[0m\u001b[0;34m\u001b[0m\u001b[0m\n\u001b[1;32m    323\u001b[0m                 \u001b[0mtraining_context\u001b[0m\u001b[0;34m=\u001b[0m\u001b[0mtraining_context\u001b[0m\u001b[0;34m,\u001b[0m\u001b[0;34m\u001b[0m\u001b[0;34m\u001b[0m\u001b[0m\n\u001b[0;32m--> 324\u001b[0;31m                 total_epochs=epochs)\n\u001b[0m\u001b[1;32m    325\u001b[0m             \u001b[0mcbks\u001b[0m\u001b[0;34m.\u001b[0m\u001b[0mmake_logs\u001b[0m\u001b[0;34m(\u001b[0m\u001b[0mmodel\u001b[0m\u001b[0;34m,\u001b[0m \u001b[0mepoch_logs\u001b[0m\u001b[0;34m,\u001b[0m \u001b[0mtraining_result\u001b[0m\u001b[0;34m,\u001b[0m \u001b[0mModeKeys\u001b[0m\u001b[0;34m.\u001b[0m\u001b[0mTRAIN\u001b[0m\u001b[0;34m)\u001b[0m\u001b[0;34m\u001b[0m\u001b[0;34m\u001b[0m\u001b[0m\n\u001b[1;32m    326\u001b[0m \u001b[0;34m\u001b[0m\u001b[0m\n",
            "\u001b[0;32m/usr/local/lib/python3.6/dist-packages/tensorflow_core/python/keras/engine/training_v2.py\u001b[0m in \u001b[0;36mrun_one_epoch\u001b[0;34m(model, iterator, execution_function, dataset_size, batch_size, strategy, steps_per_epoch, num_samples, mode, training_context, total_epochs)\u001b[0m\n\u001b[1;32m    121\u001b[0m         step=step, mode=mode, size=current_batch_size) as batch_logs:\n\u001b[1;32m    122\u001b[0m       \u001b[0;32mtry\u001b[0m\u001b[0;34m:\u001b[0m\u001b[0;34m\u001b[0m\u001b[0;34m\u001b[0m\u001b[0m\n\u001b[0;32m--> 123\u001b[0;31m         \u001b[0mbatch_outs\u001b[0m \u001b[0;34m=\u001b[0m \u001b[0mexecution_function\u001b[0m\u001b[0;34m(\u001b[0m\u001b[0miterator\u001b[0m\u001b[0;34m)\u001b[0m\u001b[0;34m\u001b[0m\u001b[0;34m\u001b[0m\u001b[0m\n\u001b[0m\u001b[1;32m    124\u001b[0m       \u001b[0;32mexcept\u001b[0m \u001b[0;34m(\u001b[0m\u001b[0mStopIteration\u001b[0m\u001b[0;34m,\u001b[0m \u001b[0merrors\u001b[0m\u001b[0;34m.\u001b[0m\u001b[0mOutOfRangeError\u001b[0m\u001b[0;34m)\u001b[0m\u001b[0;34m:\u001b[0m\u001b[0;34m\u001b[0m\u001b[0;34m\u001b[0m\u001b[0m\n\u001b[1;32m    125\u001b[0m         \u001b[0;31m# TODO(kaftan): File bug about tf function and errors.OutOfRangeError?\u001b[0m\u001b[0;34m\u001b[0m\u001b[0;34m\u001b[0m\u001b[0;34m\u001b[0m\u001b[0m\n",
            "\u001b[0;32m/usr/local/lib/python3.6/dist-packages/tensorflow_core/python/keras/engine/training_v2_utils.py\u001b[0m in \u001b[0;36mexecution_function\u001b[0;34m(input_fn)\u001b[0m\n\u001b[1;32m     84\u001b[0m     \u001b[0;31m# `numpy` translates Tensors to values in Eager mode.\u001b[0m\u001b[0;34m\u001b[0m\u001b[0;34m\u001b[0m\u001b[0;34m\u001b[0m\u001b[0m\n\u001b[1;32m     85\u001b[0m     return nest.map_structure(_non_none_constant_value,\n\u001b[0;32m---> 86\u001b[0;31m                               distributed_function(input_fn))\n\u001b[0m\u001b[1;32m     87\u001b[0m \u001b[0;34m\u001b[0m\u001b[0m\n\u001b[1;32m     88\u001b[0m   \u001b[0;32mreturn\u001b[0m \u001b[0mexecution_function\u001b[0m\u001b[0;34m\u001b[0m\u001b[0;34m\u001b[0m\u001b[0m\n",
            "\u001b[0;32m/usr/local/lib/python3.6/dist-packages/tensorflow_core/python/eager/def_function.py\u001b[0m in \u001b[0;36m__call__\u001b[0;34m(self, *args, **kwds)\u001b[0m\n\u001b[1;32m    455\u001b[0m \u001b[0;34m\u001b[0m\u001b[0m\n\u001b[1;32m    456\u001b[0m     \u001b[0mtracing_count\u001b[0m \u001b[0;34m=\u001b[0m \u001b[0mself\u001b[0m\u001b[0;34m.\u001b[0m\u001b[0m_get_tracing_count\u001b[0m\u001b[0;34m(\u001b[0m\u001b[0;34m)\u001b[0m\u001b[0;34m\u001b[0m\u001b[0;34m\u001b[0m\u001b[0m\n\u001b[0;32m--> 457\u001b[0;31m     \u001b[0mresult\u001b[0m \u001b[0;34m=\u001b[0m \u001b[0mself\u001b[0m\u001b[0;34m.\u001b[0m\u001b[0m_call\u001b[0m\u001b[0;34m(\u001b[0m\u001b[0;34m*\u001b[0m\u001b[0margs\u001b[0m\u001b[0;34m,\u001b[0m \u001b[0;34m**\u001b[0m\u001b[0mkwds\u001b[0m\u001b[0;34m)\u001b[0m\u001b[0;34m\u001b[0m\u001b[0;34m\u001b[0m\u001b[0m\n\u001b[0m\u001b[1;32m    458\u001b[0m     \u001b[0;32mif\u001b[0m \u001b[0mtracing_count\u001b[0m \u001b[0;34m==\u001b[0m \u001b[0mself\u001b[0m\u001b[0;34m.\u001b[0m\u001b[0m_get_tracing_count\u001b[0m\u001b[0;34m(\u001b[0m\u001b[0;34m)\u001b[0m\u001b[0;34m:\u001b[0m\u001b[0;34m\u001b[0m\u001b[0;34m\u001b[0m\u001b[0m\n\u001b[1;32m    459\u001b[0m       \u001b[0mself\u001b[0m\u001b[0;34m.\u001b[0m\u001b[0m_call_counter\u001b[0m\u001b[0;34m.\u001b[0m\u001b[0mcalled_without_tracing\u001b[0m\u001b[0;34m(\u001b[0m\u001b[0;34m)\u001b[0m\u001b[0;34m\u001b[0m\u001b[0;34m\u001b[0m\u001b[0m\n",
            "\u001b[0;32m/usr/local/lib/python3.6/dist-packages/tensorflow_core/python/eager/def_function.py\u001b[0m in \u001b[0;36m_call\u001b[0;34m(self, *args, **kwds)\u001b[0m\n\u001b[1;32m    485\u001b[0m       \u001b[0;31m# In this case we have created variables on the first call, so we run the\u001b[0m\u001b[0;34m\u001b[0m\u001b[0;34m\u001b[0m\u001b[0;34m\u001b[0m\u001b[0m\n\u001b[1;32m    486\u001b[0m       \u001b[0;31m# defunned version which is guaranteed to never create variables.\u001b[0m\u001b[0;34m\u001b[0m\u001b[0;34m\u001b[0m\u001b[0;34m\u001b[0m\u001b[0m\n\u001b[0;32m--> 487\u001b[0;31m       \u001b[0;32mreturn\u001b[0m \u001b[0mself\u001b[0m\u001b[0;34m.\u001b[0m\u001b[0m_stateless_fn\u001b[0m\u001b[0;34m(\u001b[0m\u001b[0;34m*\u001b[0m\u001b[0margs\u001b[0m\u001b[0;34m,\u001b[0m \u001b[0;34m**\u001b[0m\u001b[0mkwds\u001b[0m\u001b[0;34m)\u001b[0m  \u001b[0;31m# pylint: disable=not-callable\u001b[0m\u001b[0;34m\u001b[0m\u001b[0;34m\u001b[0m\u001b[0m\n\u001b[0m\u001b[1;32m    488\u001b[0m     \u001b[0;32melif\u001b[0m \u001b[0mself\u001b[0m\u001b[0;34m.\u001b[0m\u001b[0m_stateful_fn\u001b[0m \u001b[0;32mis\u001b[0m \u001b[0;32mnot\u001b[0m \u001b[0;32mNone\u001b[0m\u001b[0;34m:\u001b[0m\u001b[0;34m\u001b[0m\u001b[0;34m\u001b[0m\u001b[0m\n\u001b[1;32m    489\u001b[0m       \u001b[0;31m# Release the lock early so that multiple threads can perform the call\u001b[0m\u001b[0;34m\u001b[0m\u001b[0;34m\u001b[0m\u001b[0;34m\u001b[0m\u001b[0m\n",
            "\u001b[0;32m/usr/local/lib/python3.6/dist-packages/tensorflow_core/python/eager/function.py\u001b[0m in \u001b[0;36m__call__\u001b[0;34m(self, *args, **kwargs)\u001b[0m\n\u001b[1;32m   1821\u001b[0m     \u001b[0;34m\"\"\"Calls a graph function specialized to the inputs.\"\"\"\u001b[0m\u001b[0;34m\u001b[0m\u001b[0;34m\u001b[0m\u001b[0m\n\u001b[1;32m   1822\u001b[0m     \u001b[0mgraph_function\u001b[0m\u001b[0;34m,\u001b[0m \u001b[0margs\u001b[0m\u001b[0;34m,\u001b[0m \u001b[0mkwargs\u001b[0m \u001b[0;34m=\u001b[0m \u001b[0mself\u001b[0m\u001b[0;34m.\u001b[0m\u001b[0m_maybe_define_function\u001b[0m\u001b[0;34m(\u001b[0m\u001b[0margs\u001b[0m\u001b[0;34m,\u001b[0m \u001b[0mkwargs\u001b[0m\u001b[0;34m)\u001b[0m\u001b[0;34m\u001b[0m\u001b[0;34m\u001b[0m\u001b[0m\n\u001b[0;32m-> 1823\u001b[0;31m     \u001b[0;32mreturn\u001b[0m \u001b[0mgraph_function\u001b[0m\u001b[0;34m.\u001b[0m\u001b[0m_filtered_call\u001b[0m\u001b[0;34m(\u001b[0m\u001b[0margs\u001b[0m\u001b[0;34m,\u001b[0m \u001b[0mkwargs\u001b[0m\u001b[0;34m)\u001b[0m  \u001b[0;31m# pylint: disable=protected-access\u001b[0m\u001b[0;34m\u001b[0m\u001b[0;34m\u001b[0m\u001b[0m\n\u001b[0m\u001b[1;32m   1824\u001b[0m \u001b[0;34m\u001b[0m\u001b[0m\n\u001b[1;32m   1825\u001b[0m   \u001b[0;34m@\u001b[0m\u001b[0mproperty\u001b[0m\u001b[0;34m\u001b[0m\u001b[0;34m\u001b[0m\u001b[0m\n",
            "\u001b[0;32m/usr/local/lib/python3.6/dist-packages/tensorflow_core/python/eager/function.py\u001b[0m in \u001b[0;36m_filtered_call\u001b[0;34m(self, args, kwargs)\u001b[0m\n\u001b[1;32m   1139\u001b[0m          if isinstance(t, (ops.Tensor,\n\u001b[1;32m   1140\u001b[0m                            resource_variable_ops.BaseResourceVariable))),\n\u001b[0;32m-> 1141\u001b[0;31m         self.captured_inputs)\n\u001b[0m\u001b[1;32m   1142\u001b[0m \u001b[0;34m\u001b[0m\u001b[0m\n\u001b[1;32m   1143\u001b[0m   \u001b[0;32mdef\u001b[0m \u001b[0m_call_flat\u001b[0m\u001b[0;34m(\u001b[0m\u001b[0mself\u001b[0m\u001b[0;34m,\u001b[0m \u001b[0margs\u001b[0m\u001b[0;34m,\u001b[0m \u001b[0mcaptured_inputs\u001b[0m\u001b[0;34m,\u001b[0m \u001b[0mcancellation_manager\u001b[0m\u001b[0;34m=\u001b[0m\u001b[0;32mNone\u001b[0m\u001b[0;34m)\u001b[0m\u001b[0;34m:\u001b[0m\u001b[0;34m\u001b[0m\u001b[0;34m\u001b[0m\u001b[0m\n",
            "\u001b[0;32m/usr/local/lib/python3.6/dist-packages/tensorflow_core/python/eager/function.py\u001b[0m in \u001b[0;36m_call_flat\u001b[0;34m(self, args, captured_inputs, cancellation_manager)\u001b[0m\n\u001b[1;32m   1222\u001b[0m     \u001b[0;32mif\u001b[0m \u001b[0mexecuting_eagerly\u001b[0m\u001b[0;34m:\u001b[0m\u001b[0;34m\u001b[0m\u001b[0;34m\u001b[0m\u001b[0m\n\u001b[1;32m   1223\u001b[0m       flat_outputs = forward_function.call(\n\u001b[0;32m-> 1224\u001b[0;31m           ctx, args, cancellation_manager=cancellation_manager)\n\u001b[0m\u001b[1;32m   1225\u001b[0m     \u001b[0;32melse\u001b[0m\u001b[0;34m:\u001b[0m\u001b[0;34m\u001b[0m\u001b[0;34m\u001b[0m\u001b[0m\n\u001b[1;32m   1226\u001b[0m       \u001b[0mgradient_name\u001b[0m \u001b[0;34m=\u001b[0m \u001b[0mself\u001b[0m\u001b[0;34m.\u001b[0m\u001b[0m_delayed_rewrite_functions\u001b[0m\u001b[0;34m.\u001b[0m\u001b[0mregister\u001b[0m\u001b[0;34m(\u001b[0m\u001b[0;34m)\u001b[0m\u001b[0;34m\u001b[0m\u001b[0;34m\u001b[0m\u001b[0m\n",
            "\u001b[0;32m/usr/local/lib/python3.6/dist-packages/tensorflow_core/python/eager/function.py\u001b[0m in \u001b[0;36mcall\u001b[0;34m(self, ctx, args, cancellation_manager)\u001b[0m\n\u001b[1;32m    509\u001b[0m               \u001b[0minputs\u001b[0m\u001b[0;34m=\u001b[0m\u001b[0margs\u001b[0m\u001b[0;34m,\u001b[0m\u001b[0;34m\u001b[0m\u001b[0;34m\u001b[0m\u001b[0m\n\u001b[1;32m    510\u001b[0m               \u001b[0mattrs\u001b[0m\u001b[0;34m=\u001b[0m\u001b[0;34m(\u001b[0m\u001b[0;34m\"executor_type\"\u001b[0m\u001b[0;34m,\u001b[0m \u001b[0mexecutor_type\u001b[0m\u001b[0;34m,\u001b[0m \u001b[0;34m\"config_proto\"\u001b[0m\u001b[0;34m,\u001b[0m \u001b[0mconfig\u001b[0m\u001b[0;34m)\u001b[0m\u001b[0;34m,\u001b[0m\u001b[0;34m\u001b[0m\u001b[0;34m\u001b[0m\u001b[0m\n\u001b[0;32m--> 511\u001b[0;31m               ctx=ctx)\n\u001b[0m\u001b[1;32m    512\u001b[0m         \u001b[0;32melse\u001b[0m\u001b[0;34m:\u001b[0m\u001b[0;34m\u001b[0m\u001b[0;34m\u001b[0m\u001b[0m\n\u001b[1;32m    513\u001b[0m           outputs = execute.execute_with_cancellation(\n",
            "\u001b[0;32m/usr/local/lib/python3.6/dist-packages/tensorflow_core/python/eager/execute.py\u001b[0m in \u001b[0;36mquick_execute\u001b[0;34m(op_name, num_outputs, inputs, attrs, ctx, name)\u001b[0m\n\u001b[1;32m     59\u001b[0m     tensors = pywrap_tensorflow.TFE_Py_Execute(ctx._handle, device_name,\n\u001b[1;32m     60\u001b[0m                                                \u001b[0mop_name\u001b[0m\u001b[0;34m,\u001b[0m \u001b[0minputs\u001b[0m\u001b[0;34m,\u001b[0m \u001b[0mattrs\u001b[0m\u001b[0;34m,\u001b[0m\u001b[0;34m\u001b[0m\u001b[0;34m\u001b[0m\u001b[0m\n\u001b[0;32m---> 61\u001b[0;31m                                                num_outputs)\n\u001b[0m\u001b[1;32m     62\u001b[0m   \u001b[0;32mexcept\u001b[0m \u001b[0mcore\u001b[0m\u001b[0;34m.\u001b[0m\u001b[0m_NotOkStatusException\u001b[0m \u001b[0;32mas\u001b[0m \u001b[0me\u001b[0m\u001b[0;34m:\u001b[0m\u001b[0;34m\u001b[0m\u001b[0;34m\u001b[0m\u001b[0m\n\u001b[1;32m     63\u001b[0m     \u001b[0;32mif\u001b[0m \u001b[0mname\u001b[0m \u001b[0;32mis\u001b[0m \u001b[0;32mnot\u001b[0m \u001b[0;32mNone\u001b[0m\u001b[0;34m:\u001b[0m\u001b[0;34m\u001b[0m\u001b[0;34m\u001b[0m\u001b[0m\n",
            "\u001b[0;31mKeyboardInterrupt\u001b[0m: "
          ]
>>>>>>> 52f4df26d6748f2c01488f3ca2ed0866bebfab38
        }
      ]
    },
    {
      "cell_type": "code",
      "metadata": {
        "id": "Rtl8HQZnzdYJ"
      },
      "source": [
        "model.save('/content/drive/My Drive/trained_model/rocopicker2_RMS2')"
      ],
      "execution_count": null,
      "outputs": []
    },
    {
      "cell_type": "code",
      "metadata": {
        "id": "RRwuqLoyyR--"
      },
      "source": [
        ""
      ],
      "execution_count": null,
      "outputs": []
    },
    {
      "cell_type": "markdown",
      "metadata": {
        "id": "5FGoBUuOaXHK"
      },
      "source": [
        "# 사진을 이용한 평가"
      ]
    },
    {
      "cell_type": "code",
      "metadata": {
        "id": "2jgZrEU00CPm"
      },
      "source": [
        "import cv2\n",
        "\n",
<<<<<<< HEAD
        "im = cv2.imread(\"/content/check08.jpg\").astype(np.float32) # 이미지 로드\n",
=======
        "im = cv2.imread(\"/content/check09.jpg\").astype(np.float32) # 이미지 로드\n",
>>>>>>> 52f4df26d6748f2c01488f3ca2ed0866bebfab38
        "im = im * (1.0/255.0) # 이미지 정규화\n",
        "resized_img = cv2.resize(im, (299,299)) # 이미지 크기를 맞게 변형\n",
        "rgb_img = cv2.cvtColor(resized_img, cv2.COLOR_BGR2RGB)\n",
        "expdim_img = np.expand_dims(rgb_img, axis=0) # 배치는 1개"
      ],
      "execution_count": null,
      "outputs": []
    },
    {
      "cell_type": "code",
      "metadata": {
        "id": "dP_UYxHt0ZCT",
        "colab": {
<<<<<<< HEAD
          "base_uri": "https://localhost:8080/"
        },
        "outputId": "b8c6f89d-29e3-4182-adb4-a9c7846dc40a"
=======
          "base_uri": "https://localhost:8080/",
          "height": 34
        },
        "outputId": "da1145e0-9066-4662-f426-7f8bdd1ec0e9"
>>>>>>> 52f4df26d6748f2c01488f3ca2ed0866bebfab38
      },
      "source": [
        "predict = model.predict(expdim_img)\n",
        "predict"
      ],
      "execution_count": null,
      "outputs": [
        {
          "output_type": "execute_result",
          "data": {
            "text/plain": [
<<<<<<< HEAD
              "array([[0.88898176, 0.11101828]], dtype=float32)"
=======
              "array([[0.27828822, 0.7217118 ]], dtype=float32)"
>>>>>>> 52f4df26d6748f2c01488f3ca2ed0866bebfab38
            ]
          },
          "metadata": {
            "tags": []
          },
<<<<<<< HEAD
          "execution_count": 85
=======
          "execution_count": 82
>>>>>>> 52f4df26d6748f2c01488f3ca2ed0866bebfab38
        }
      ]
    },
    {
      "cell_type": "code",
      "metadata": {
        "id": "8Vw2S3VmMCnQ",
        "colab": {
          "base_uri": "https://localhost:8080/",
          "height": 286
        },
<<<<<<< HEAD
        "outputId": "b20e5660-0fe7-495b-8e26-7d2e75a047d3"
=======
        "outputId": "115a724c-0de9-4d64-d9dc-5e92e3e4a45d"
>>>>>>> 52f4df26d6748f2c01488f3ca2ed0866bebfab38
      },
      "source": [
        "plt.imshow(rgb_img)\n",
        "print(\"로코: {:0.3}%, Not_로코: {:0.3}%\".format(predict[0][0]*100, predict[0][1]*100))"
      ],
      "execution_count": null,
      "outputs": [
        {
          "output_type": "stream",
          "text": [
<<<<<<< HEAD
            "로코: 88.9%, Not_로코: 11.1%\n"
=======
            "로코: 27.8%, Not_로코: 72.2%\n"
>>>>>>> 52f4df26d6748f2c01488f3ca2ed0866bebfab38
          ],
          "name": "stdout"
        },
        {
          "output_type": "display_data",
          "data": {
<<<<<<< HEAD
            "image/png": "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\n",
=======
            "image/png": "iVBORw0KGgoAAAANSUhEUgAAAQEAAAD8CAYAAAB3lxGOAAAABHNCSVQICAgIfAhkiAAAAAlwSFlz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\nPdmTV7nsGYE92ZNXuewZgT3Zk1e5/F8N5l+0STn01gAAAABJRU5ErkJggg==\n",
>>>>>>> 52f4df26d6748f2c01488f3ca2ed0866bebfab38
            "text/plain": [
              "<Figure size 432x288 with 1 Axes>"
            ]
          },
          "metadata": {
<<<<<<< HEAD
            "tags": [],
            "needs_background": "light"
=======
            "tags": []
>>>>>>> 52f4df26d6748f2c01488f3ca2ed0866bebfab38
          }
        }
      ]
    },
    {
      "cell_type": "markdown",
      "metadata": {
        "id": "0nJEJvWr9zAH"
      },
      "source": [
        "# Model evaluate (for debugging)"
      ]
    },
    {
      "cell_type": "code",
      "metadata": {
        "id": "mq9cGAUwAj0y",
        "colab": {
          "base_uri": "https://localhost:8080/",
          "height": 53
        },
        "outputId": "45b417ca-ec2a-4d65-cbe6-445ebec11ed6"
      },
      "source": [
        "model.evaluate(generated_validation_data)"
      ],
      "execution_count": null,
      "outputs": [
        {
          "output_type": "stream",
          "text": [
            "20/20 [==============================] - 225s 11s/step - loss: 0.5259 - accuracy: 0.7375\n"
          ],
          "name": "stdout"
        },
        {
          "output_type": "execute_result",
          "data": {
            "text/plain": [
              "[0.5258844941854477, 0.7375]"
            ]
          },
          "metadata": {
            "tags": []
          },
          "execution_count": 47
        }
      ]
    },
    {
      "cell_type": "code",
      "metadata": {
        "id": "kPC35BO_CmKq",
        "colab": {
          "base_uri": "https://localhost:8080/",
          "height": 35
        },
        "outputId": "6cc368dc-b0c4-4f43-b29f-179150b89463"
      },
      "source": [
        "model.inputs"
      ],
      "execution_count": null,
      "outputs": [
        {
          "output_type": "execute_result",
          "data": {
            "text/plain": [
              "[<tf.Tensor 'input_1:0' shape=(None, 299, 299, 3) dtype=float32>]"
            ]
          },
          "metadata": {
            "tags": []
          },
          "execution_count": 10
        }
      ]
    },
    {
      "cell_type": "code",
      "metadata": {
        "id": "1wpy6oUU1D3y"
      },
      "source": [
        ""
      ],
      "execution_count": null,
      "outputs": []
    },
    {
      "cell_type": "markdown",
      "metadata": {
<<<<<<< HEAD
        "id": "Ls9R5MovsvjO"
=======
        "id": "nqVTte9aMAds"
>>>>>>> 52f4df26d6748f2c01488f3ca2ed0866bebfab38
      },
      "source": [
        "# 텐서플로우 JS"
      ]
    },
    {
      "cell_type": "markdown",
      "metadata": {
        "id": "Ls9R5MovsvjO"
      },
      "source": [
        "# 텐서플로우 JS"
      ]
    },
    {
      "cell_type": "code",
      "metadata": {
        "id": "6yZnPuEAAXWN",
        "colab": {
<<<<<<< HEAD
          "base_uri": "https://localhost:8080/"
        },
        "outputId": "6a4a6925-d4e0-4323-ad63-94ede152151a"
=======
          "base_uri": "https://localhost:8080/",
          "height": 751
        },
        "outputId": "9e0ba8d1-f25c-465b-83e5-20ee32a27964"
>>>>>>> 52f4df26d6748f2c01488f3ca2ed0866bebfab38
      },
      "source": [
        "!pip install tensorflowjs"
      ],
      "execution_count": null,
      "outputs": [
        {
          "output_type": "stream",
          "text": [
<<<<<<< HEAD
            "Collecting tensorflowjs\n",
            "\u001b[?25l  Downloading https://files.pythonhosted.org/packages/9c/a5/d778313aa845dcf8e6f0dcdf6b878fa4e24ca8e27e8e09eb80f6f52d347f/tensorflowjs-3.2.0-py3-none-any.whl (63kB)\n",
            "\r\u001b[K     |█████▏                          | 10kB 26.6MB/s eta 0:00:01\r\u001b[K     |██████████▍                     | 20kB 16.9MB/s eta 0:00:01\r\u001b[K     |███████████████▌                | 30kB 15.5MB/s eta 0:00:01\r\u001b[K     |████████████████████▊           | 40kB 15.1MB/s eta 0:00:01\r\u001b[K     |█████████████████████████▉      | 51kB 12.0MB/s eta 0:00:01\r\u001b[K     |███████████████████████████████ | 61kB 12.3MB/s eta 0:00:01\r\u001b[K     |████████████████████████████████| 71kB 6.9MB/s \n",
            "\u001b[?25hRequirement already satisfied: h5py<3,>=2.8.0 in /usr/local/lib/python3.7/dist-packages (from tensorflowjs) (2.10.0)\n",
            "Requirement already satisfied: six<2,>=1.12.0 in /usr/local/lib/python3.7/dist-packages (from tensorflowjs) (1.15.0)\n",
            "Requirement already satisfied: tensorflow<3,>=2.1.0 in /usr/local/lib/python3.7/dist-packages (from tensorflowjs) (2.4.1)\n",
            "Collecting tensorflow-hub<0.10,>=0.7.0\n",
            "\u001b[?25l  Downloading https://files.pythonhosted.org/packages/ac/83/a7df82744a794107641dad1decaad017d82e25f0e1f761ac9204829eef96/tensorflow_hub-0.9.0-py2.py3-none-any.whl (103kB)\n",
            "\r\u001b[K     |███▏                            | 10kB 28.4MB/s eta 0:00:01\r\u001b[K     |██████▍                         | 20kB 36.6MB/s eta 0:00:01\r\u001b[K     |█████████▌                      | 30kB 31.2MB/s eta 0:00:01\r\u001b[K     |████████████▊                   | 40kB 23.4MB/s eta 0:00:01\r\u001b[K     |███████████████▉                | 51kB 24.5MB/s eta 0:00:01\r\u001b[K     |███████████████████             | 61kB 22.1MB/s eta 0:00:01\r\u001b[K     |██████████████████████▏         | 71kB 20.5MB/s eta 0:00:01\r\u001b[K     |█████████████████████████▍      | 81kB 19.2MB/s eta 0:00:01\r\u001b[K     |████████████████████████████▋   | 92kB 20.7MB/s eta 0:00:01\r\u001b[K     |███████████████████████████████▊| 102kB 19.5MB/s eta 0:00:01\r\u001b[K     |████████████████████████████████| 112kB 19.5MB/s \n",
            "\u001b[?25hRequirement already satisfied: numpy>=1.7 in /usr/local/lib/python3.7/dist-packages (from h5py<3,>=2.8.0->tensorflowjs) (1.19.5)\n",
            "Requirement already satisfied: wrapt~=1.12.1 in /usr/local/lib/python3.7/dist-packages (from tensorflow<3,>=2.1.0->tensorflowjs) (1.12.1)\n",
            "Requirement already satisfied: wheel~=0.35 in /usr/local/lib/python3.7/dist-packages (from tensorflow<3,>=2.1.0->tensorflowjs) (0.36.2)\n",
            "Requirement already satisfied: tensorflow-estimator<2.5.0,>=2.4.0 in /usr/local/lib/python3.7/dist-packages (from tensorflow<3,>=2.1.0->tensorflowjs) (2.4.0)\n",
            "Requirement already satisfied: gast==0.3.3 in /usr/local/lib/python3.7/dist-packages (from tensorflow<3,>=2.1.0->tensorflowjs) (0.3.3)\n",
            "Requirement already satisfied: grpcio~=1.32.0 in /usr/local/lib/python3.7/dist-packages (from tensorflow<3,>=2.1.0->tensorflowjs) (1.32.0)\n",
            "Requirement already satisfied: protobuf>=3.9.2 in /usr/local/lib/python3.7/dist-packages (from tensorflow<3,>=2.1.0->tensorflowjs) (3.12.4)\n",
            "Requirement already satisfied: absl-py~=0.10 in /usr/local/lib/python3.7/dist-packages (from tensorflow<3,>=2.1.0->tensorflowjs) (0.10.0)\n",
            "Requirement already satisfied: keras-preprocessing~=1.1.2 in /usr/local/lib/python3.7/dist-packages (from tensorflow<3,>=2.1.0->tensorflowjs) (1.1.2)\n",
            "Requirement already satisfied: typing-extensions~=3.7.4 in /usr/local/lib/python3.7/dist-packages (from tensorflow<3,>=2.1.0->tensorflowjs) (3.7.4.3)\n",
            "Requirement already satisfied: opt-einsum~=3.3.0 in /usr/local/lib/python3.7/dist-packages (from tensorflow<3,>=2.1.0->tensorflowjs) (3.3.0)\n",
            "Requirement already satisfied: google-pasta~=0.2 in /usr/local/lib/python3.7/dist-packages (from tensorflow<3,>=2.1.0->tensorflowjs) (0.2.0)\n",
            "Requirement already satisfied: flatbuffers~=1.12.0 in /usr/local/lib/python3.7/dist-packages (from tensorflow<3,>=2.1.0->tensorflowjs) (1.12)\n",
            "Requirement already satisfied: astunparse~=1.6.3 in /usr/local/lib/python3.7/dist-packages (from tensorflow<3,>=2.1.0->tensorflowjs) (1.6.3)\n",
            "Requirement already satisfied: tensorboard~=2.4 in /usr/local/lib/python3.7/dist-packages (from tensorflow<3,>=2.1.0->tensorflowjs) (2.4.1)\n",
            "Requirement already satisfied: termcolor~=1.1.0 in /usr/local/lib/python3.7/dist-packages (from tensorflow<3,>=2.1.0->tensorflowjs) (1.1.0)\n",
            "Requirement already satisfied: setuptools in /usr/local/lib/python3.7/dist-packages (from protobuf>=3.9.2->tensorflow<3,>=2.1.0->tensorflowjs) (53.0.0)\n",
            "Requirement already satisfied: markdown>=2.6.8 in /usr/local/lib/python3.7/dist-packages (from tensorboard~=2.4->tensorflow<3,>=2.1.0->tensorflowjs) (3.3.4)\n",
            "Requirement already satisfied: google-auth<2,>=1.6.3 in /usr/local/lib/python3.7/dist-packages (from tensorboard~=2.4->tensorflow<3,>=2.1.0->tensorflowjs) (1.27.0)\n",
            "Requirement already satisfied: tensorboard-plugin-wit>=1.6.0 in /usr/local/lib/python3.7/dist-packages (from tensorboard~=2.4->tensorflow<3,>=2.1.0->tensorflowjs) (1.8.0)\n",
            "Requirement already satisfied: google-auth-oauthlib<0.5,>=0.4.1 in /usr/local/lib/python3.7/dist-packages (from tensorboard~=2.4->tensorflow<3,>=2.1.0->tensorflowjs) (0.4.2)\n",
            "Requirement already satisfied: werkzeug>=0.11.15 in /usr/local/lib/python3.7/dist-packages (from tensorboard~=2.4->tensorflow<3,>=2.1.0->tensorflowjs) (1.0.1)\n",
            "Requirement already satisfied: requests<3,>=2.21.0 in /usr/local/lib/python3.7/dist-packages (from tensorboard~=2.4->tensorflow<3,>=2.1.0->tensorflowjs) (2.23.0)\n",
            "Requirement already satisfied: importlib-metadata; python_version < \"3.8\" in /usr/local/lib/python3.7/dist-packages (from markdown>=2.6.8->tensorboard~=2.4->tensorflow<3,>=2.1.0->tensorflowjs) (3.7.0)\n",
            "Requirement already satisfied: pyasn1-modules>=0.2.1 in /usr/local/lib/python3.7/dist-packages (from google-auth<2,>=1.6.3->tensorboard~=2.4->tensorflow<3,>=2.1.0->tensorflowjs) (0.2.8)\n",
            "Requirement already satisfied: rsa<5,>=3.1.4; python_version >= \"3.6\" in /usr/local/lib/python3.7/dist-packages (from google-auth<2,>=1.6.3->tensorboard~=2.4->tensorflow<3,>=2.1.0->tensorflowjs) (4.7.2)\n",
            "Requirement already satisfied: cachetools<5.0,>=2.0.0 in /usr/local/lib/python3.7/dist-packages (from google-auth<2,>=1.6.3->tensorboard~=2.4->tensorflow<3,>=2.1.0->tensorflowjs) (4.2.1)\n",
            "Requirement already satisfied: requests-oauthlib>=0.7.0 in /usr/local/lib/python3.7/dist-packages (from google-auth-oauthlib<0.5,>=0.4.1->tensorboard~=2.4->tensorflow<3,>=2.1.0->tensorflowjs) (1.3.0)\n",
            "Requirement already satisfied: certifi>=2017.4.17 in /usr/local/lib/python3.7/dist-packages (from requests<3,>=2.21.0->tensorboard~=2.4->tensorflow<3,>=2.1.0->tensorflowjs) (2020.12.5)\n",
            "Requirement already satisfied: idna<3,>=2.5 in /usr/local/lib/python3.7/dist-packages (from requests<3,>=2.21.0->tensorboard~=2.4->tensorflow<3,>=2.1.0->tensorflowjs) (2.10)\n",
            "Requirement already satisfied: chardet<4,>=3.0.2 in /usr/local/lib/python3.7/dist-packages (from requests<3,>=2.21.0->tensorboard~=2.4->tensorflow<3,>=2.1.0->tensorflowjs) (3.0.4)\n",
            "Requirement already satisfied: urllib3!=1.25.0,!=1.25.1,<1.26,>=1.21.1 in /usr/local/lib/python3.7/dist-packages (from requests<3,>=2.21.0->tensorboard~=2.4->tensorflow<3,>=2.1.0->tensorflowjs) (1.24.3)\n",
            "Requirement already satisfied: zipp>=0.5 in /usr/local/lib/python3.7/dist-packages (from importlib-metadata; python_version < \"3.8\"->markdown>=2.6.8->tensorboard~=2.4->tensorflow<3,>=2.1.0->tensorflowjs) (3.4.0)\n",
            "Requirement already satisfied: pyasn1<0.5.0,>=0.4.6 in /usr/local/lib/python3.7/dist-packages (from pyasn1-modules>=0.2.1->google-auth<2,>=1.6.3->tensorboard~=2.4->tensorflow<3,>=2.1.0->tensorflowjs) (0.4.8)\n",
            "Requirement already satisfied: oauthlib>=3.0.0 in /usr/local/lib/python3.7/dist-packages (from requests-oauthlib>=0.7.0->google-auth-oauthlib<0.5,>=0.4.1->tensorboard~=2.4->tensorflow<3,>=2.1.0->tensorflowjs) (3.1.0)\n",
            "Installing collected packages: tensorflow-hub, tensorflowjs\n",
            "  Found existing installation: tensorflow-hub 0.11.0\n",
            "    Uninstalling tensorflow-hub-0.11.0:\n",
            "      Successfully uninstalled tensorflow-hub-0.11.0\n",
            "Successfully installed tensorflow-hub-0.9.0 tensorflowjs-3.2.0\n"
=======
            "Requirement already satisfied: tensorflowjs in /usr/local/lib/python3.6/dist-packages (1.5.2)\n",
            "Requirement already satisfied: gast==0.2.2 in /usr/local/lib/python3.6/dist-packages (from tensorflowjs) (0.2.2)\n",
            "Requirement already satisfied: tensorflow-cpu==2.1.0 in /usr/local/lib/python3.6/dist-packages (from tensorflowjs) (2.1.0)\n",
            "Requirement already satisfied: PyInquirer==1.0.3 in /usr/local/lib/python3.6/dist-packages (from tensorflowjs) (1.0.3)\n",
            "Requirement already satisfied: six>=1.12.0 in /usr/local/lib/python3.6/dist-packages (from tensorflowjs) (1.12.0)\n",
            "Requirement already satisfied: tensorflow-hub==0.7.0 in /usr/local/lib/python3.6/dist-packages (from tensorflowjs) (0.7.0)\n",
            "Requirement already satisfied: h5py>=2.8.0 in /usr/local/lib/python3.6/dist-packages (from tensorflowjs) (2.8.0)\n",
            "Requirement already satisfied: numpy>=1.16.4 in /usr/local/lib/python3.6/dist-packages (from tensorflowjs) (1.17.5)\n",
            "Requirement already satisfied: astor>=0.6.0 in /usr/local/lib/python3.6/dist-packages (from tensorflow-cpu==2.1.0->tensorflowjs) (0.8.1)\n",
            "Requirement already satisfied: wrapt>=1.11.1 in /usr/local/lib/python3.6/dist-packages (from tensorflow-cpu==2.1.0->tensorflowjs) (1.11.2)\n",
            "Requirement already satisfied: tensorboard<2.2.0,>=2.1.0 in /usr/local/lib/python3.6/dist-packages (from tensorflow-cpu==2.1.0->tensorflowjs) (2.1.0)\n",
            "Requirement already satisfied: keras-applications>=1.0.8 in /usr/local/lib/python3.6/dist-packages (from tensorflow-cpu==2.1.0->tensorflowjs) (1.0.8)\n",
            "Requirement already satisfied: opt-einsum>=2.3.2 in /usr/local/lib/python3.6/dist-packages (from tensorflow-cpu==2.1.0->tensorflowjs) (3.1.0)\n",
            "Requirement already satisfied: keras-preprocessing>=1.1.0 in /usr/local/lib/python3.6/dist-packages (from tensorflow-cpu==2.1.0->tensorflowjs) (1.1.0)\n",
            "Requirement already satisfied: wheel>=0.26; python_version >= \"3\" in /usr/local/lib/python3.6/dist-packages (from tensorflow-cpu==2.1.0->tensorflowjs) (0.34.2)\n",
            "Requirement already satisfied: protobuf>=3.8.0 in /usr/local/lib/python3.6/dist-packages (from tensorflow-cpu==2.1.0->tensorflowjs) (3.10.0)\n",
            "Requirement already satisfied: google-pasta>=0.1.6 in /usr/local/lib/python3.6/dist-packages (from tensorflow-cpu==2.1.0->tensorflowjs) (0.1.8)\n",
            "Requirement already satisfied: grpcio>=1.8.6 in /usr/local/lib/python3.6/dist-packages (from tensorflow-cpu==2.1.0->tensorflowjs) (1.27.1)\n",
            "Requirement already satisfied: termcolor>=1.1.0 in /usr/local/lib/python3.6/dist-packages (from tensorflow-cpu==2.1.0->tensorflowjs) (1.1.0)\n",
            "Requirement already satisfied: absl-py>=0.7.0 in /usr/local/lib/python3.6/dist-packages (from tensorflow-cpu==2.1.0->tensorflowjs) (0.9.0)\n",
            "Requirement already satisfied: tensorflow-estimator<2.2.0,>=2.1.0rc0 in /usr/local/lib/python3.6/dist-packages (from tensorflow-cpu==2.1.0->tensorflowjs) (2.1.0)\n",
            "Requirement already satisfied: scipy==1.4.1; python_version >= \"3\" in /usr/local/lib/python3.6/dist-packages (from tensorflow-cpu==2.1.0->tensorflowjs) (1.4.1)\n",
            "Requirement already satisfied: prompt-toolkit==1.0.14 in /usr/local/lib/python3.6/dist-packages (from PyInquirer==1.0.3->tensorflowjs) (1.0.14)\n",
            "Requirement already satisfied: regex>=2016.11.21 in /usr/local/lib/python3.6/dist-packages (from PyInquirer==1.0.3->tensorflowjs) (2019.12.20)\n",
            "Requirement already satisfied: Pygments>=2.2.0 in /usr/local/lib/python3.6/dist-packages (from PyInquirer==1.0.3->tensorflowjs) (2.5.2)\n",
            "Requirement already satisfied: markdown>=2.6.8 in /usr/local/lib/python3.6/dist-packages (from tensorboard<2.2.0,>=2.1.0->tensorflow-cpu==2.1.0->tensorflowjs) (3.2.1)\n",
            "Requirement already satisfied: google-auth<2,>=1.6.3 in /usr/local/lib/python3.6/dist-packages (from tensorboard<2.2.0,>=2.1.0->tensorflow-cpu==2.1.0->tensorflowjs) (1.7.2)\n",
            "Requirement already satisfied: setuptools>=41.0.0 in /usr/local/lib/python3.6/dist-packages (from tensorboard<2.2.0,>=2.1.0->tensorflow-cpu==2.1.0->tensorflowjs) (45.1.0)\n",
            "Requirement already satisfied: google-auth-oauthlib<0.5,>=0.4.1 in /usr/local/lib/python3.6/dist-packages (from tensorboard<2.2.0,>=2.1.0->tensorflow-cpu==2.1.0->tensorflowjs) (0.4.1)\n",
            "Requirement already satisfied: werkzeug>=0.11.15 in /usr/local/lib/python3.6/dist-packages (from tensorboard<2.2.0,>=2.1.0->tensorflow-cpu==2.1.0->tensorflowjs) (1.0.0)\n",
            "Requirement already satisfied: requests<3,>=2.21.0 in /usr/local/lib/python3.6/dist-packages (from tensorboard<2.2.0,>=2.1.0->tensorflow-cpu==2.1.0->tensorflowjs) (2.21.0)\n",
            "Requirement already satisfied: wcwidth in /usr/local/lib/python3.6/dist-packages (from prompt-toolkit==1.0.14->PyInquirer==1.0.3->tensorflowjs) (0.1.8)\n",
            "Requirement already satisfied: rsa<4.1,>=3.1.4 in /usr/local/lib/python3.6/dist-packages (from google-auth<2,>=1.6.3->tensorboard<2.2.0,>=2.1.0->tensorflow-cpu==2.1.0->tensorflowjs) (4.0)\n",
            "Requirement already satisfied: pyasn1-modules>=0.2.1 in /usr/local/lib/python3.6/dist-packages (from google-auth<2,>=1.6.3->tensorboard<2.2.0,>=2.1.0->tensorflow-cpu==2.1.0->tensorflowjs) (0.2.8)\n",
            "Requirement already satisfied: cachetools<3.2,>=2.0.0 in /usr/local/lib/python3.6/dist-packages (from google-auth<2,>=1.6.3->tensorboard<2.2.0,>=2.1.0->tensorflow-cpu==2.1.0->tensorflowjs) (3.1.1)\n",
            "Requirement already satisfied: requests-oauthlib>=0.7.0 in /usr/local/lib/python3.6/dist-packages (from google-auth-oauthlib<0.5,>=0.4.1->tensorboard<2.2.0,>=2.1.0->tensorflow-cpu==2.1.0->tensorflowjs) (1.3.0)\n",
            "Requirement already satisfied: certifi>=2017.4.17 in /usr/local/lib/python3.6/dist-packages (from requests<3,>=2.21.0->tensorboard<2.2.0,>=2.1.0->tensorflow-cpu==2.1.0->tensorflowjs) (2019.11.28)\n",
            "Requirement already satisfied: idna<2.9,>=2.5 in /usr/local/lib/python3.6/dist-packages (from requests<3,>=2.21.0->tensorboard<2.2.0,>=2.1.0->tensorflow-cpu==2.1.0->tensorflowjs) (2.8)\n",
            "Requirement already satisfied: chardet<3.1.0,>=3.0.2 in /usr/local/lib/python3.6/dist-packages (from requests<3,>=2.21.0->tensorboard<2.2.0,>=2.1.0->tensorflow-cpu==2.1.0->tensorflowjs) (3.0.4)\n",
            "Requirement already satisfied: urllib3<1.25,>=1.21.1 in /usr/local/lib/python3.6/dist-packages (from requests<3,>=2.21.0->tensorboard<2.2.0,>=2.1.0->tensorflow-cpu==2.1.0->tensorflowjs) (1.24.3)\n",
            "Requirement already satisfied: pyasn1>=0.1.3 in /usr/local/lib/python3.6/dist-packages (from rsa<4.1,>=3.1.4->google-auth<2,>=1.6.3->tensorboard<2.2.0,>=2.1.0->tensorflow-cpu==2.1.0->tensorflowjs) (0.4.8)\n",
            "Requirement already satisfied: oauthlib>=3.0.0 in /usr/local/lib/python3.6/dist-packages (from requests-oauthlib>=0.7.0->google-auth-oauthlib<0.5,>=0.4.1->tensorboard<2.2.0,>=2.1.0->tensorflow-cpu==2.1.0->tensorflowjs) (3.1.0)\n"
>>>>>>> 52f4df26d6748f2c01488f3ca2ed0866bebfab38
          ],
          "name": "stdout"
        }
      ]
    },
    {
      "cell_type": "code",
      "metadata": {
        "id": "hTPB9rbaAaKx",
        "colab": {
<<<<<<< HEAD
          "base_uri": "https://localhost:8080/"
        },
        "outputId": "f9b74dbc-ce16-4e14-ba72-826881e08a10"
      },
      "source": [
        "!tensorflowjs_converter --input_format keras \\\n",
        "                       /content/drive/My\\ Drive/trained_model/rocopicker_Season_2 \\\n",
        "                       /content/drive/My\\ Drive/trained_model/rocopicker_Season_2js"
=======
          "base_uri": "https://localhost:8080/",
          "height": 344
        },
        "outputId": "f7a6ab0c-5c68-424f-b823-854c8ff8a5f0"
      },
      "source": [
        "!tensorflowjs_converter --input_format keras \\\n",
        "                       /content/drive/My\\ Drive/trained_model/rocopicker2 \\\n",
        "                       /content/drive/My\\ Drive/trained_model/rocopicker2js"
>>>>>>> 52f4df26d6748f2c01488f3ca2ed0866bebfab38
      ],
      "execution_count": null,
      "outputs": [
        {
          "output_type": "stream",
          "text": [
<<<<<<< HEAD
            "2021-02-28 11:00:53.652120: I tensorflow/stream_executor/platform/default/dso_loader.cc:49] Successfully opened dynamic library libcudart.so.10.1\n",
            "usage: TensorFlow.js model converters. [-h]\n",
            "                                       [--input_format {keras,tf_frozen_model,tf_saved_model,tf_hub,tfjs_layers_model,keras_saved_model}]\n",
            "                                       [--output_format {keras,tfjs_layers_model,keras_saved_model,tfjs_graph_model}]\n",
            "                                       [--signature_name SIGNATURE_NAME]\n",
            "                                       [--saved_model_tags SAVED_MODEL_TAGS]\n",
            "                                       [--quantize_float16 [QUANTIZE_FLOAT16]]\n",
            "                                       [--quantize_uint8 [QUANTIZE_UINT8]]\n",
            "                                       [--quantize_uint16 [QUANTIZE_UINT16]]\n",
            "                                       [--quantization_bytes {1,2}]\n",
            "                                       [--split_weights_by_layer] [--version]\n",
            "                                       [--skip_op_check]\n",
            "                                       [--strip_debug_ops STRIP_DEBUG_OPS]\n",
            "                                       [--weight_shard_size_bytes WEIGHT_SHARD_SIZE_BYTES]\n",
            "                                       [--output_node_names OUTPUT_NODE_NAMES]\n",
            "                                       [--control_flow_v2 CONTROL_FLOW_V2]\n",
            "                                       [--experiments EXPERIMENTS]\n",
            "                                       [--metadata METADATA]\n",
            "                                       [input_path] [output_path]\n",
            "TensorFlow.js model converters.: error: unrecognized arguments: /content/drive/My Drive/trained_model/rocopicker_Season_2js\n"
          ],
          "name": "stdout"
=======
            "/bin/bash: tensorflowjs_converter: command not found\n"
          ],
          "name": "stdout"
        },
        {
          "output_type": "error",
          "ename": "KeyboardInterrupt",
          "evalue": "ignored",
          "traceback": [
            "\u001b[0;31m---------------------------------------------------------------------------\u001b[0m",
            "\u001b[0;31mKeyboardInterrupt\u001b[0m                         Traceback (most recent call last)",
            "\u001b[0;32m<ipython-input-2-a3e89bace401>\u001b[0m in \u001b[0;36m<module>\u001b[0;34m()\u001b[0m\n\u001b[0;32m----> 1\u001b[0;31m \u001b[0mget_ipython\u001b[0m\u001b[0;34m(\u001b[0m\u001b[0;34m)\u001b[0m\u001b[0;34m.\u001b[0m\u001b[0msystem\u001b[0m\u001b[0;34m(\u001b[0m\u001b[0;34m'tensorflowjs_converter --input_format keras                        /content/drive/My\\\\ Drive/trained_model/rocopicker2                        /content/drive/My\\\\ Drive/trained_model/rocopicker2js'\u001b[0m\u001b[0;34m)\u001b[0m\u001b[0;34m\u001b[0m\u001b[0;34m\u001b[0m\u001b[0m\n\u001b[0m",
            "\u001b[0;32m/usr/local/lib/python3.6/dist-packages/google/colab/_shell.py\u001b[0m in \u001b[0;36msystem\u001b[0;34m(self, *args, **kwargs)\u001b[0m\n\u001b[1;32m     94\u001b[0m       \u001b[0mkwargs\u001b[0m\u001b[0;34m.\u001b[0m\u001b[0mupdate\u001b[0m\u001b[0;34m(\u001b[0m\u001b[0;34m{\u001b[0m\u001b[0;34m'also_return_output'\u001b[0m\u001b[0;34m:\u001b[0m \u001b[0;32mTrue\u001b[0m\u001b[0;34m}\u001b[0m\u001b[0;34m)\u001b[0m\u001b[0;34m\u001b[0m\u001b[0;34m\u001b[0m\u001b[0m\n\u001b[1;32m     95\u001b[0m \u001b[0;34m\u001b[0m\u001b[0m\n\u001b[0;32m---> 96\u001b[0;31m     \u001b[0moutput\u001b[0m \u001b[0;34m=\u001b[0m \u001b[0m_system_commands\u001b[0m\u001b[0;34m.\u001b[0m\u001b[0m_system_compat\u001b[0m\u001b[0;34m(\u001b[0m\u001b[0mself\u001b[0m\u001b[0;34m,\u001b[0m \u001b[0;34m*\u001b[0m\u001b[0margs\u001b[0m\u001b[0;34m,\u001b[0m \u001b[0;34m**\u001b[0m\u001b[0mkwargs\u001b[0m\u001b[0;34m)\u001b[0m  \u001b[0;31m# pylint:disable=protected-access\u001b[0m\u001b[0;34m\u001b[0m\u001b[0;34m\u001b[0m\u001b[0m\n\u001b[0m\u001b[1;32m     97\u001b[0m \u001b[0;34m\u001b[0m\u001b[0m\n\u001b[1;32m     98\u001b[0m     \u001b[0;32mif\u001b[0m \u001b[0mpip_warn\u001b[0m\u001b[0;34m:\u001b[0m\u001b[0;34m\u001b[0m\u001b[0;34m\u001b[0m\u001b[0m\n",
            "\u001b[0;32m/usr/local/lib/python3.6/dist-packages/google/colab/_system_commands.py\u001b[0m in \u001b[0;36m_system_compat\u001b[0;34m(shell, cmd, also_return_output)\u001b[0m\n\u001b[1;32m    436\u001b[0m   \u001b[0;31m# stack.\u001b[0m\u001b[0;34m\u001b[0m\u001b[0;34m\u001b[0m\u001b[0;34m\u001b[0m\u001b[0m\n\u001b[1;32m    437\u001b[0m   result = _run_command(\n\u001b[0;32m--> 438\u001b[0;31m       shell.var_expand(cmd, depth=2), clear_streamed_output=False)\n\u001b[0m\u001b[1;32m    439\u001b[0m   \u001b[0mshell\u001b[0m\u001b[0;34m.\u001b[0m\u001b[0muser_ns\u001b[0m\u001b[0;34m[\u001b[0m\u001b[0;34m'_exit_code'\u001b[0m\u001b[0;34m]\u001b[0m \u001b[0;34m=\u001b[0m \u001b[0mresult\u001b[0m\u001b[0;34m.\u001b[0m\u001b[0mreturncode\u001b[0m\u001b[0;34m\u001b[0m\u001b[0;34m\u001b[0m\u001b[0m\n\u001b[1;32m    440\u001b[0m   \u001b[0;32mif\u001b[0m \u001b[0;34m-\u001b[0m\u001b[0mresult\u001b[0m\u001b[0;34m.\u001b[0m\u001b[0mreturncode\u001b[0m \u001b[0;32min\u001b[0m \u001b[0m_INTERRUPTED_SIGNALS\u001b[0m\u001b[0;34m:\u001b[0m\u001b[0;34m\u001b[0m\u001b[0;34m\u001b[0m\u001b[0m\n",
            "\u001b[0;32m/usr/local/lib/python3.6/dist-packages/google/colab/_system_commands.py\u001b[0m in \u001b[0;36m_run_command\u001b[0;34m(cmd, clear_streamed_output)\u001b[0m\n\u001b[1;32m    193\u001b[0m       \u001b[0mos\u001b[0m\u001b[0;34m.\u001b[0m\u001b[0mclose\u001b[0m\u001b[0;34m(\u001b[0m\u001b[0mchild_pty\u001b[0m\u001b[0;34m)\u001b[0m\u001b[0;34m\u001b[0m\u001b[0;34m\u001b[0m\u001b[0m\n\u001b[1;32m    194\u001b[0m \u001b[0;34m\u001b[0m\u001b[0m\n\u001b[0;32m--> 195\u001b[0;31m       \u001b[0;32mreturn\u001b[0m \u001b[0m_monitor_process\u001b[0m\u001b[0;34m(\u001b[0m\u001b[0mparent_pty\u001b[0m\u001b[0;34m,\u001b[0m \u001b[0mepoll\u001b[0m\u001b[0;34m,\u001b[0m \u001b[0mp\u001b[0m\u001b[0;34m,\u001b[0m \u001b[0mcmd\u001b[0m\u001b[0;34m,\u001b[0m \u001b[0mupdate_stdin_widget\u001b[0m\u001b[0;34m)\u001b[0m\u001b[0;34m\u001b[0m\u001b[0;34m\u001b[0m\u001b[0m\n\u001b[0m\u001b[1;32m    196\u001b[0m   \u001b[0;32mfinally\u001b[0m\u001b[0;34m:\u001b[0m\u001b[0;34m\u001b[0m\u001b[0;34m\u001b[0m\u001b[0m\n\u001b[1;32m    197\u001b[0m     \u001b[0mepoll\u001b[0m\u001b[0;34m.\u001b[0m\u001b[0mclose\u001b[0m\u001b[0;34m(\u001b[0m\u001b[0;34m)\u001b[0m\u001b[0;34m\u001b[0m\u001b[0;34m\u001b[0m\u001b[0m\n",
            "\u001b[0;32m/usr/lib/python3.6/contextlib.py\u001b[0m in \u001b[0;36m__exit__\u001b[0;34m(self, type, value, traceback)\u001b[0m\n\u001b[1;32m     86\u001b[0m         \u001b[0;32mif\u001b[0m \u001b[0mtype\u001b[0m \u001b[0;32mis\u001b[0m \u001b[0;32mNone\u001b[0m\u001b[0;34m:\u001b[0m\u001b[0;34m\u001b[0m\u001b[0;34m\u001b[0m\u001b[0m\n\u001b[1;32m     87\u001b[0m             \u001b[0;32mtry\u001b[0m\u001b[0;34m:\u001b[0m\u001b[0;34m\u001b[0m\u001b[0;34m\u001b[0m\u001b[0m\n\u001b[0;32m---> 88\u001b[0;31m                 \u001b[0mnext\u001b[0m\u001b[0;34m(\u001b[0m\u001b[0mself\u001b[0m\u001b[0;34m.\u001b[0m\u001b[0mgen\u001b[0m\u001b[0;34m)\u001b[0m\u001b[0;34m\u001b[0m\u001b[0;34m\u001b[0m\u001b[0m\n\u001b[0m\u001b[1;32m     89\u001b[0m             \u001b[0;32mexcept\u001b[0m \u001b[0mStopIteration\u001b[0m\u001b[0;34m:\u001b[0m\u001b[0;34m\u001b[0m\u001b[0;34m\u001b[0m\u001b[0m\n\u001b[1;32m     90\u001b[0m                 \u001b[0;32mreturn\u001b[0m \u001b[0;32mFalse\u001b[0m\u001b[0;34m\u001b[0m\u001b[0;34m\u001b[0m\u001b[0m\n",
            "\u001b[0;32m/usr/local/lib/python3.6/dist-packages/google/colab/_system_commands.py\u001b[0m in \u001b[0;36m_display_stdin_widget\u001b[0;34m(delay_millis)\u001b[0m\n\u001b[1;32m    353\u001b[0m \u001b[0;34m\u001b[0m\u001b[0m\n\u001b[1;32m    354\u001b[0m   \u001b[0mhide_args\u001b[0m \u001b[0;34m=\u001b[0m \u001b[0;34m[\u001b[0m\u001b[0;34m'cell_remove_stdin'\u001b[0m\u001b[0;34m,\u001b[0m \u001b[0;34m{\u001b[0m\u001b[0;34m}\u001b[0m\u001b[0;34m]\u001b[0m\u001b[0;34m\u001b[0m\u001b[0;34m\u001b[0m\u001b[0m\n\u001b[0;32m--> 355\u001b[0;31m   \u001b[0m_message\u001b[0m\u001b[0;34m.\u001b[0m\u001b[0mblocking_request\u001b[0m\u001b[0;34m(\u001b[0m\u001b[0;34m*\u001b[0m\u001b[0mhide_args\u001b[0m\u001b[0;34m,\u001b[0m \u001b[0mparent\u001b[0m\u001b[0;34m=\u001b[0m\u001b[0mshell\u001b[0m\u001b[0;34m.\u001b[0m\u001b[0mparent_header\u001b[0m\u001b[0;34m)\u001b[0m\u001b[0;34m\u001b[0m\u001b[0;34m\u001b[0m\u001b[0m\n\u001b[0m\u001b[1;32m    356\u001b[0m \u001b[0;34m\u001b[0m\u001b[0m\n\u001b[1;32m    357\u001b[0m \u001b[0;34m\u001b[0m\u001b[0m\n",
            "\u001b[0;32m/usr/local/lib/python3.6/dist-packages/google/colab/_message.py\u001b[0m in \u001b[0;36mblocking_request\u001b[0;34m(request_type, request, timeout_sec, parent)\u001b[0m\n\u001b[1;32m    169\u001b[0m   \u001b[0;31m# unique.\u001b[0m\u001b[0;34m\u001b[0m\u001b[0;34m\u001b[0m\u001b[0;34m\u001b[0m\u001b[0m\n\u001b[1;32m    170\u001b[0m   \u001b[0mrequest_id\u001b[0m \u001b[0;34m=\u001b[0m \u001b[0msend_request\u001b[0m\u001b[0;34m(\u001b[0m\u001b[0mrequest_type\u001b[0m\u001b[0;34m,\u001b[0m \u001b[0mrequest\u001b[0m\u001b[0;34m,\u001b[0m \u001b[0mparent\u001b[0m\u001b[0;34m=\u001b[0m\u001b[0mparent\u001b[0m\u001b[0;34m)\u001b[0m\u001b[0;34m\u001b[0m\u001b[0;34m\u001b[0m\u001b[0m\n\u001b[0;32m--> 171\u001b[0;31m   \u001b[0;32mreturn\u001b[0m \u001b[0mread_reply_from_input\u001b[0m\u001b[0;34m(\u001b[0m\u001b[0mrequest_id\u001b[0m\u001b[0;34m,\u001b[0m \u001b[0mtimeout_sec\u001b[0m\u001b[0;34m)\u001b[0m\u001b[0;34m\u001b[0m\u001b[0;34m\u001b[0m\u001b[0m\n\u001b[0m",
            "\u001b[0;32m/usr/local/lib/python3.6/dist-packages/google/colab/_message.py\u001b[0m in \u001b[0;36mread_reply_from_input\u001b[0;34m(message_id, timeout_sec)\u001b[0m\n\u001b[1;32m     99\u001b[0m     \u001b[0mreply\u001b[0m \u001b[0;34m=\u001b[0m \u001b[0m_read_next_input_message\u001b[0m\u001b[0;34m(\u001b[0m\u001b[0;34m)\u001b[0m\u001b[0;34m\u001b[0m\u001b[0;34m\u001b[0m\u001b[0m\n\u001b[1;32m    100\u001b[0m     \u001b[0;32mif\u001b[0m \u001b[0mreply\u001b[0m \u001b[0;34m==\u001b[0m \u001b[0m_NOT_READY\u001b[0m \u001b[0;32mor\u001b[0m \u001b[0;32mnot\u001b[0m \u001b[0misinstance\u001b[0m\u001b[0;34m(\u001b[0m\u001b[0mreply\u001b[0m\u001b[0;34m,\u001b[0m \u001b[0mdict\u001b[0m\u001b[0;34m)\u001b[0m\u001b[0;34m:\u001b[0m\u001b[0;34m\u001b[0m\u001b[0;34m\u001b[0m\u001b[0m\n\u001b[0;32m--> 101\u001b[0;31m       \u001b[0mtime\u001b[0m\u001b[0;34m.\u001b[0m\u001b[0msleep\u001b[0m\u001b[0;34m(\u001b[0m\u001b[0;36m0.025\u001b[0m\u001b[0;34m)\u001b[0m\u001b[0;34m\u001b[0m\u001b[0;34m\u001b[0m\u001b[0m\n\u001b[0m\u001b[1;32m    102\u001b[0m       \u001b[0;32mcontinue\u001b[0m\u001b[0;34m\u001b[0m\u001b[0;34m\u001b[0m\u001b[0m\n\u001b[1;32m    103\u001b[0m     if (reply.get('type') == 'colab_reply' and\n",
            "\u001b[0;31mKeyboardInterrupt\u001b[0m: "
          ]
>>>>>>> 52f4df26d6748f2c01488f3ca2ed0866bebfab38
        }
      ]
    },
    {
      "cell_type": "code",
      "metadata": {
<<<<<<< HEAD
        "id": "tIoGTH4kA5iK",
        "colab": {
          "base_uri": "https://localhost:8080/"
        },
        "outputId": "a3dadb19-19a3-4169-a536-69fde8bd0864"
=======
        "id": "tIoGTH4kA5iK"
>>>>>>> 52f4df26d6748f2c01488f3ca2ed0866bebfab38
      },
      "source": [
        "import tensorflow as tf\n",
        "import tensorflowjs as tfjs\n",
        "\n",
<<<<<<< HEAD
        "model = tf.keras.models.load_model('/content/drive/My Drive/trained_model/rocopicker_Season_2')\n",
=======
        "model = tf.keras.models.load_model('/content/drive/My Drive/trained_model/rocopicker2')\n",
>>>>>>> 52f4df26d6748f2c01488f3ca2ed0866bebfab38
        "\n",
        "tfjs.converters.save_keras_model(model, '/content/drive/My Drive/trained_model/rocopickerjs')"
      ],
      "execution_count": null,
<<<<<<< HEAD
      "outputs": [
        {
          "output_type": "stream",
          "text": [
            "/usr/local/lib/python3.7/dist-packages/tensorflowjs/converters/keras_h5_conversion.py:123: H5pyDeprecationWarning: The default file mode will change to 'r' (read-only) in h5py 3.0. To suppress this warning, pass the mode you need to h5py.File(), or set the global default h5.get_config().default_file_mode, or set the environment variable H5PY_DEFAULT_READONLY=1. Available modes are: 'r', 'r+', 'w', 'w-'/'x', 'a'. See the docs for details.\n",
            "  return h5py.File(h5file)\n"
          ],
          "name": "stderr"
=======
      "outputs": []
    },
    {
      "cell_type": "code",
      "metadata": {
        "id": "8i6HjMeMB9MU",
        "colab": {
          "base_uri": "https://localhost:8080/",
          "height": 34
        },
        "outputId": "bf184b8c-5ee9-4868-e362-bc1b8dcd8f1d"
      },
      "source": [
        "import tensorflow as tf\n",
        "tf.__version__"
      ],
      "execution_count": null,
      "outputs": [
        {
          "output_type": "execute_result",
          "data": {
            "text/plain": [
              "'2.1.0'"
            ]
          },
          "metadata": {
            "tags": []
          },
          "execution_count": 13
>>>>>>> 52f4df26d6748f2c01488f3ca2ed0866bebfab38
        }
      ]
    },
    {
      "cell_type": "code",
      "metadata": {
        "id": "dFKnuZMLN8Eu",
        "colab": {
          "base_uri": "https://localhost:8080/",
          "height": 150
        },
        "outputId": "5cf5c1bc-6d99-4a6a-b0f5-d932d3bd9823"
      },
      "source": [
        "tensorflowjs_converter --input_format tfjs_layers_model --output_format tfjs_graph_model /content/drive/My\\ Drive/trained_model/rocopickerjs/model.json graph_model"
      ],
      "execution_count": null,
      "outputs": [
        {
          "output_type": "error",
          "ename": "SyntaxError",
          "evalue": "ignored",
          "traceback": [
            "\u001b[0;36m  File \u001b[0;32m\"<ipython-input-1-4de7b0228713>\"\u001b[0;36m, line \u001b[0;32m1\u001b[0m\n\u001b[0;31m    tensorflowjs_converter --input_format tfjs_layers_model --output_format tfjs_graph_model /content/drive/My\\ Drive/trained_model/rocopickerjs/model.json graph_model\u001b[0m\n\u001b[0m                                                          ^\u001b[0m\n\u001b[0;31mSyntaxError\u001b[0m\u001b[0;31m:\u001b[0m invalid syntax\n"
          ]
        }
      ]
    },
    {
      "cell_type": "code",
      "metadata": {
        "id": "mRkLF_gqT6Ah"
      },
      "source": [
        "model = tf.keras.models.load_model('/content/drive/My Drive/trained_model/rocopicker2')"
      ],
      "execution_count": null,
      "outputs": []
    },
    {
      "cell_type": "code",
      "metadata": {
        "id": "NBfgpU2pPQSC"
      },
      "source": [
        "model.save_weights('/content/drive/My Drive/trained_model/rocopicker3')"
      ],
      "execution_count": null,
      "outputs": []
    },
    {
      "cell_type": "code",
      "metadata": {
        "id": "6MD9kObJT-YR",
        "colab": {
          "base_uri": "https://localhost:8080/",
          "height": 122
        },
        "outputId": "a9e99bd1-cdf0-4595-a338-e3f5c8f61eaa"
      },
      "source": [
        "tf.saved_model.save(model,'/content/drive/My Drive/trained_model/rocopickerjs')"
      ],
      "execution_count": null,
      "outputs": [
        {
          "output_type": "stream",
          "text": [
            "WARNING:tensorflow:Skipping full serialization of Keras model <tensorflow.python.keras.saving.saved_model.load.Sequential object at 0x7f80ca92c518>, because its inputs are not defined.\n",
            "WARNING:tensorflow:From /usr/local/lib/python3.6/dist-packages/tensorflow_core/python/ops/resource_variable_ops.py:1786: calling BaseResourceVariable.__init__ (from tensorflow.python.ops.resource_variable_ops) with constraint is deprecated and will be removed in a future version.\n",
            "Instructions for updating:\n",
            "If using Keras pass *_constraint arguments to layers.\n",
            "INFO:tensorflow:Assets written to: /content/drive/My Drive/trained_model/rocopickerjs/assets\n"
          ],
          "name": "stdout"
        }
      ]
    },
    {
      "cell_type": "code",
      "metadata": {
        "id": "o20DhRtKV9kj",
        "colab": {
          "base_uri": "https://localhost:8080/",
          "height": 343
        },
        "outputId": "c920d7a6-2fb6-4fa2-9e05-4ed28b22801b"
      },
      "source": [
        "!tensorflowjs_converter --input_format=tf_saved_model input_path=/content/model output_path=/content/outputmodel"
      ],
      "execution_count": null,
      "outputs": [
        {
          "output_type": "stream",
          "text": [
            "Traceback (most recent call last):\n",
            "  File \"/usr/local/bin/tensorflowjs_converter\", line 8, in <module>\n",
            "    sys.exit(pip_main())\n",
            "  File \"/usr/local/lib/python3.6/dist-packages/tensorflowjs/converters/converter.py\", line 645, in pip_main\n",
            "    main([' '.join(sys.argv[1:])])\n",
            "  File \"/usr/local/lib/python3.6/dist-packages/tensorflowjs/converters/converter.py\", line 649, in main\n",
            "    convert(argv[0].split(' '))\n",
            "  File \"/usr/local/lib/python3.6/dist-packages/tensorflowjs/converters/converter.py\", line 595, in convert\n",
            "    strip_debug_ops=args.strip_debug_ops)\n",
            "  File \"/usr/local/lib/python3.6/dist-packages/tensorflowjs/converters/tf_saved_model_conversion_v2.py\", line 416, in convert_tf_saved_model\n",
            "    model = load(saved_model_dir, saved_model_tags)\n",
            "  File \"/usr/local/lib/python3.6/dist-packages/tensorflow_core/python/saved_model/load.py\", line 528, in load\n",
            "    return load_internal(export_dir, tags)\n",
            "  File \"/usr/local/lib/python3.6/dist-packages/tensorflow_core/python/saved_model/load.py\", line 537, in load_internal\n",
            "    saved_model_proto = loader_impl.parse_saved_model(export_dir)\n",
            "  File \"/usr/local/lib/python3.6/dist-packages/tensorflow_core/python/saved_model/loader_impl.py\", line 83, in parse_saved_model\n",
            "    constants.SAVED_MODEL_FILENAME_PB))\n",
            "OSError: SavedModel file does not exist at: input_path=/content/model/{saved_model.pbtxt|saved_model.pb}\n"
          ],
          "name": "stdout"
        }
      ]
    },
    {
      "cell_type": "code",
      "metadata": {
        "id": "agNqrUkAYADr"
      },
      "source": [
        "!cp -r /content/drive/My\\ Drive/trained_model/rocopicker2 /content/model"
      ],
      "execution_count": null,
      "outputs": []
    },
    {
      "cell_type": "code",
      "metadata": {
        "id": "zs_0Ac0vYw6o"
      },
      "source": [
        ""
      ],
      "execution_count": null,
      "outputs": []
    }
  ]
}